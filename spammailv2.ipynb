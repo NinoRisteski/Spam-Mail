{
 "cells": [
  {
   "cell_type": "code",
   "execution_count": 2,
   "id": "79722b9c",
   "metadata": {},
   "outputs": [],
   "source": [
    "#SMSSpamCollection\n",
    "\n",
    "import pandas as pd\n",
    "import numpy as np\n",
    "import sklearn as skl\n",
    "import nltk\n",
    "import warnings\n",
    "warnings.filterwarnings(\"ignore\")"
   ]
  },
  {
   "cell_type": "code",
   "execution_count": 3,
   "id": "b0a137e4",
   "metadata": {},
   "outputs": [
    {
     "data": {
      "text/html": [
       "<div>\n",
       "<style scoped>\n",
       "    .dataframe tbody tr th:only-of-type {\n",
       "        vertical-align: middle;\n",
       "    }\n",
       "\n",
       "    .dataframe tbody tr th {\n",
       "        vertical-align: top;\n",
       "    }\n",
       "\n",
       "    .dataframe thead th {\n",
       "        text-align: right;\n",
       "    }\n",
       "</style>\n",
       "<table border=\"1\" class=\"dataframe\">\n",
       "  <thead>\n",
       "    <tr style=\"text-align: right;\">\n",
       "      <th></th>\n",
       "      <th>v1</th>\n",
       "      <th>v2</th>\n",
       "      <th>Unnamed: 2</th>\n",
       "      <th>Unnamed: 3</th>\n",
       "      <th>Unnamed: 4</th>\n",
       "    </tr>\n",
       "  </thead>\n",
       "  <tbody>\n",
       "    <tr>\n",
       "      <th>0</th>\n",
       "      <td>ham</td>\n",
       "      <td>Go until jurong point, crazy.. Available only ...</td>\n",
       "      <td>NaN</td>\n",
       "      <td>NaN</td>\n",
       "      <td>NaN</td>\n",
       "    </tr>\n",
       "    <tr>\n",
       "      <th>1</th>\n",
       "      <td>ham</td>\n",
       "      <td>Ok lar... Joking wif u oni...</td>\n",
       "      <td>NaN</td>\n",
       "      <td>NaN</td>\n",
       "      <td>NaN</td>\n",
       "    </tr>\n",
       "    <tr>\n",
       "      <th>2</th>\n",
       "      <td>spam</td>\n",
       "      <td>Free entry in 2 a wkly comp to win FA Cup fina...</td>\n",
       "      <td>NaN</td>\n",
       "      <td>NaN</td>\n",
       "      <td>NaN</td>\n",
       "    </tr>\n",
       "    <tr>\n",
       "      <th>3</th>\n",
       "      <td>ham</td>\n",
       "      <td>U dun say so early hor... U c already then say...</td>\n",
       "      <td>NaN</td>\n",
       "      <td>NaN</td>\n",
       "      <td>NaN</td>\n",
       "    </tr>\n",
       "    <tr>\n",
       "      <th>4</th>\n",
       "      <td>ham</td>\n",
       "      <td>Nah I don't think he goes to usf, he lives aro...</td>\n",
       "      <td>NaN</td>\n",
       "      <td>NaN</td>\n",
       "      <td>NaN</td>\n",
       "    </tr>\n",
       "  </tbody>\n",
       "</table>\n",
       "</div>"
      ],
      "text/plain": [
       "     v1                                                 v2 Unnamed: 2   \n",
       "0   ham  Go until jurong point, crazy.. Available only ...        NaN  \\\n",
       "1   ham                      Ok lar... Joking wif u oni...        NaN   \n",
       "2  spam  Free entry in 2 a wkly comp to win FA Cup fina...        NaN   \n",
       "3   ham  U dun say so early hor... U c already then say...        NaN   \n",
       "4   ham  Nah I don't think he goes to usf, he lives aro...        NaN   \n",
       "\n",
       "  Unnamed: 3 Unnamed: 4  \n",
       "0        NaN        NaN  \n",
       "1        NaN        NaN  \n",
       "2        NaN        NaN  \n",
       "3        NaN        NaN  \n",
       "4        NaN        NaN  "
      ]
     },
     "execution_count": 3,
     "metadata": {},
     "output_type": "execute_result"
    }
   ],
   "source": [
    "#Read the data set\n",
    "df = pd.read_csv('spam.csv', encoding=\"ISO-8859-1\")\n",
    "df.head()"
   ]
  },
  {
   "cell_type": "code",
   "execution_count": 4,
   "id": "9ea22f5b",
   "metadata": {},
   "outputs": [],
   "source": [
    "#Drop last three columns\n",
    "df=df.drop([\"Unnamed: 2\", \"Unnamed: 3\", \"Unnamed: 4\"],axis=1)"
   ]
  },
  {
   "cell_type": "code",
   "execution_count": 5,
   "id": "9831a891",
   "metadata": {},
   "outputs": [
    {
     "name": "stdout",
     "output_type": "stream",
     "text": [
      "<class 'pandas.core.frame.DataFrame'>\n",
      "RangeIndex: 5572 entries, 0 to 5571\n",
      "Data columns (total 2 columns):\n",
      " #   Column  Non-Null Count  Dtype \n",
      "---  ------  --------------  ----- \n",
      " 0   v1      5572 non-null   object\n",
      " 1   v2      5572 non-null   object\n",
      "dtypes: object(2)\n",
      "memory usage: 87.2+ KB\n",
      "None\n"
     ]
    }
   ],
   "source": [
    "print(df.info())"
   ]
  },
  {
   "cell_type": "code",
   "execution_count": 6,
   "id": "b1728390",
   "metadata": {},
   "outputs": [],
   "source": [
    "# Change the header of the column\n",
    "df = df.rename(columns={\"v1\":\"label\", \"v2\":\"message\"})"
   ]
  },
  {
   "cell_type": "code",
   "execution_count": 7,
   "id": "8c8d7ec9",
   "metadata": {},
   "outputs": [
    {
     "data": {
      "text/html": [
       "<div>\n",
       "<style scoped>\n",
       "    .dataframe tbody tr th:only-of-type {\n",
       "        vertical-align: middle;\n",
       "    }\n",
       "\n",
       "    .dataframe tbody tr th {\n",
       "        vertical-align: top;\n",
       "    }\n",
       "\n",
       "    .dataframe thead th {\n",
       "        text-align: right;\n",
       "    }\n",
       "</style>\n",
       "<table border=\"1\" class=\"dataframe\">\n",
       "  <thead>\n",
       "    <tr style=\"text-align: right;\">\n",
       "      <th></th>\n",
       "      <th>label</th>\n",
       "      <th>message</th>\n",
       "    </tr>\n",
       "  </thead>\n",
       "  <tbody>\n",
       "    <tr>\n",
       "      <th>0</th>\n",
       "      <td>ham</td>\n",
       "      <td>Go until jurong point, crazy.. Available only ...</td>\n",
       "    </tr>\n",
       "    <tr>\n",
       "      <th>1</th>\n",
       "      <td>ham</td>\n",
       "      <td>Ok lar... Joking wif u oni...</td>\n",
       "    </tr>\n",
       "    <tr>\n",
       "      <th>2</th>\n",
       "      <td>spam</td>\n",
       "      <td>Free entry in 2 a wkly comp to win FA Cup fina...</td>\n",
       "    </tr>\n",
       "    <tr>\n",
       "      <th>3</th>\n",
       "      <td>ham</td>\n",
       "      <td>U dun say so early hor... U c already then say...</td>\n",
       "    </tr>\n",
       "    <tr>\n",
       "      <th>4</th>\n",
       "      <td>ham</td>\n",
       "      <td>Nah I don't think he goes to usf, he lives aro...</td>\n",
       "    </tr>\n",
       "  </tbody>\n",
       "</table>\n",
       "</div>"
      ],
      "text/plain": [
       "  label                                            message\n",
       "0   ham  Go until jurong point, crazy.. Available only ...\n",
       "1   ham                      Ok lar... Joking wif u oni...\n",
       "2  spam  Free entry in 2 a wkly comp to win FA Cup fina...\n",
       "3   ham  U dun say so early hor... U c already then say...\n",
       "4   ham  Nah I don't think he goes to usf, he lives aro..."
      ]
     },
     "execution_count": 7,
     "metadata": {},
     "output_type": "execute_result"
    }
   ],
   "source": [
    "df.head()"
   ]
  },
  {
   "cell_type": "code",
   "execution_count": 8,
   "id": "07b13194",
   "metadata": {},
   "outputs": [
    {
     "data": {
      "text/plain": [
       "label\n",
       "ham     4825\n",
       "spam     747\n",
       "Name: count, dtype: int64"
      ]
     },
     "execution_count": 8,
     "metadata": {},
     "output_type": "execute_result"
    }
   ],
   "source": [
    "df[\"label\"].value_counts()"
   ]
  },
  {
   "cell_type": "code",
   "execution_count": 9,
   "id": "e19d3624",
   "metadata": {},
   "outputs": [
    {
     "data": {
      "text/plain": [
       "[Text(0.5, 1.0, 'spam vs Ham in the total mail')]"
      ]
     },
     "execution_count": 9,
     "metadata": {},
     "output_type": "execute_result"
    },
    {
     "data": {
      "image/png": "[encoded data removed]",
      "text/plain": [
       "<Figure size 640x480 with 1 Axes>"
      ]
     },
     "metadata": {},
     "output_type": "display_data"
    }
   ],
   "source": [
    "import seaborn as sns\n",
    "sns.countplot(x= 'label',data=df, palette='winter_r').set(title='spam vs Ham in the total mail')\n"
   ]
  },
  {
   "cell_type": "code",
   "execution_count": 10,
   "id": "2ff1129d",
   "metadata": {},
   "outputs": [
    {
     "data": {
      "text/plain": [
       "(5572,)"
      ]
     },
     "execution_count": 10,
     "metadata": {},
     "output_type": "execute_result"
    }
   ],
   "source": [
    "#Change the label to Zeros and ones using labels encoding techniques\n",
    "from sklearn.preprocessing import LabelEncoder\n",
    "encoder=LabelEncoder()\n",
    "df['label']=encoder.fit_transform(df['label'])\n",
    "df['label'].shape"
   ]
  },
  {
   "cell_type": "code",
   "execution_count": 11,
   "id": "e40e7dfc",
   "metadata": {},
   "outputs": [
    {
     "data": {
      "text/html": [
       "<div>\n",
       "<style scoped>\n",
       "    .dataframe tbody tr th:only-of-type {\n",
       "        vertical-align: middle;\n",
       "    }\n",
       "\n",
       "    .dataframe tbody tr th {\n",
       "        vertical-align: top;\n",
       "    }\n",
       "\n",
       "    .dataframe thead th {\n",
       "        text-align: right;\n",
       "    }\n",
       "</style>\n",
       "<table border=\"1\" class=\"dataframe\">\n",
       "  <thead>\n",
       "    <tr style=\"text-align: right;\">\n",
       "      <th></th>\n",
       "      <th>label</th>\n",
       "      <th>message</th>\n",
       "    </tr>\n",
       "  </thead>\n",
       "  <tbody>\n",
       "    <tr>\n",
       "      <th>0</th>\n",
       "      <td>0</td>\n",
       "      <td>Go until jurong point, crazy.. Available only ...</td>\n",
       "    </tr>\n",
       "    <tr>\n",
       "      <th>1</th>\n",
       "      <td>0</td>\n",
       "      <td>Ok lar... Joking wif u oni...</td>\n",
       "    </tr>\n",
       "    <tr>\n",
       "      <th>2</th>\n",
       "      <td>1</td>\n",
       "      <td>Free entry in 2 a wkly comp to win FA Cup fina...</td>\n",
       "    </tr>\n",
       "    <tr>\n",
       "      <th>3</th>\n",
       "      <td>0</td>\n",
       "      <td>U dun say so early hor... U c already then say...</td>\n",
       "    </tr>\n",
       "    <tr>\n",
       "      <th>4</th>\n",
       "      <td>0</td>\n",
       "      <td>Nah I don't think he goes to usf, he lives aro...</td>\n",
       "    </tr>\n",
       "  </tbody>\n",
       "</table>\n",
       "</div>"
      ],
      "text/plain": [
       "   label                                            message\n",
       "0      0  Go until jurong point, crazy.. Available only ...\n",
       "1      0                      Ok lar... Joking wif u oni...\n",
       "2      1  Free entry in 2 a wkly comp to win FA Cup fina...\n",
       "3      0  U dun say so early hor... U c already then say...\n",
       "4      0  Nah I don't think he goes to usf, he lives aro..."
      ]
     },
     "execution_count": 11,
     "metadata": {},
     "output_type": "execute_result"
    }
   ],
   "source": [
    "df.head()"
   ]
  },
  {
   "cell_type": "code",
   "execution_count": 12,
   "id": "0a06b1c7",
   "metadata": {},
   "outputs": [
    {
     "name": "stdout",
     "output_type": "stream",
     "text": [
      "data set contain 5572 Observation\n"
     ]
    }
   ],
   "source": [
    "#Checking the maximum length of text\n",
    "print(\"data set contain\" +\" \" + str(len(df['message']))+\" \"+ \"Observation\")"
   ]
  },
  {
   "cell_type": "code",
   "execution_count": 13,
   "id": "78c78d8a",
   "metadata": {},
   "outputs": [
    {
     "name": "stdout",
     "output_type": "stream",
     "text": [
      "   label                                            message  length\n",
      "0      0  Go until jurong point, crazy.. Available only ...     111\n",
      "1      0                      Ok lar... Joking wif u oni...      29\n",
      "2      1  Free entry in 2 a wkly comp to win FA Cup fina...     155\n",
      "3      0  U dun say so early hor... U c already then say...      49\n",
      "4      0  Nah I don't think he goes to usf, he lives aro...      61\n"
     ]
    }
   ],
   "source": [
    "# Creatted the length of each observation\n",
    "df['length']=df['message'].apply(len)\n",
    "print(df.head())"
   ]
  },
  {
   "cell_type": "code",
   "execution_count": 14,
   "id": "099a9e6b",
   "metadata": {},
   "outputs": [
    {
     "data": {
      "text/plain": [
       "array([<Axes: title={'center': '0'}>, <Axes: title={'center': '1'}>],\n",
       "      dtype=object)"
      ]
     },
     "execution_count": 14,
     "metadata": {},
     "output_type": "execute_result"
    },
    {
     "data": {
      "image/png": "[encoded data removed]",
      "text/plain": [
       "<Figure size 1000x600 with 2 Axes>"
      ]
     },
     "metadata": {},
     "output_type": "display_data"
    }
   ],
   "source": [
    "#Visiualization of the spam and ham \n",
    "import matplotlib.pyplot as plt\n",
    "import seaborn as sns\n",
    "%matplotlib inline\n",
    "df.hist(column='length', by='label', bins=50,figsize=(10,6))\n",
    "#plt.title('length of mail')"
   ]
  },
  {
   "cell_type": "code",
   "execution_count": 15,
   "id": "93981ef5",
   "metadata": {},
   "outputs": [
    {
     "name": "stdout",
     "output_type": "stream",
     "text": [
      "0    Go until jurong point, crazy.. Available only ...\n",
      "1                        Ok lar... Joking wif u oni...\n",
      "2    Free entry in 2 a wkly comp to win FA Cup fina...\n",
      "3    U dun say so early hor... U c already then say...\n",
      "4    Nah I don't think he goes to usf, he lives aro...\n",
      "5    FreeMsg Hey there darling it's been 3 week's n...\n",
      "6    Even my brother is not like to speak with me. ...\n",
      "7    As per your request 'Melle Melle (Oru Minnamin...\n",
      "8    WINNER!! As a valued network customer you have...\n",
      "9    Had your mobile 11 months or more? U R entitle...\n",
      "Name: message, dtype: object\n"
     ]
    }
   ],
   "source": [
    "# store the text\n",
    "text= df['message']\n",
    "print(text[:10])"
   ]
  },
  {
   "cell_type": "code",
   "execution_count": 16,
   "id": "bb6ebd20",
   "metadata": {},
   "outputs": [
    {
     "name": "stderr",
     "output_type": "stream",
     "text": [
      "[nltk_data] Downloading package stopwords to\n",
      "[nltk_data]     /Users/fliprise/nltk_data...\n",
      "[nltk_data]   Package stopwords is already up-to-date!\n"
     ]
    }
   ],
   "source": [
    "# Replace email addresses with 'email'\n",
    "processed = text.str.replace(r'^.+@[^\\.].*\\.[a-z]{2,}$',\n",
    "                                 'emailaddress')\n",
    "\n",
    "# Replace URLs with 'webaddress'\n",
    "processed = processed.str.replace(r'^http\\://[a-zA-Z0-9\\-\\.]+\\.[a-zA-Z]{2,3}(/\\S*)?$',\n",
    "                                  'webaddress')\n",
    "\n",
    "# Replace whitespace between terms with a single space\n",
    "processed = processed.str.replace(r'\\s+', ' ')\n",
    "\n",
    "# Remove leading and trailing whitespace\n",
    "processed = processed.str.replace(r'^\\s+|\\s+?$', '')\n",
    "\n",
    "import re #Regular expression library\n",
    "\n",
    "#Download the English stopwords from nltk library\n",
    "nltk.download('stopwords')\n",
    "\n",
    "from nltk.corpus import stopwords\n",
    "\n",
    "# Apply the stemming process to the text\n",
    "from nltk.stem.porter import PorterStemmer\n",
    "ps = PorterStemmer()\n",
    "corpus = []\n",
    "for i in range(0, len(df)):\n",
    "    review = re.sub('[^a-zA-Z]', ' ', processed[i])\n",
    "    review = review.lower()\n",
    "    review = review.split()\n",
    "    \n",
    "    review = [ps.stem(word) for word in review if not word in stopwords.words('english')]\n",
    "    review = ' '.join(review)\n",
    "    corpus.append(review)"
   ]
  },
  {
   "cell_type": "code",
   "execution_count": 17,
   "id": "42266079",
   "metadata": {},
   "outputs": [
    {
     "name": "stderr",
     "output_type": "stream",
     "text": [
      "[nltk_data] Downloading package stopwords to\n",
      "[nltk_data]     /Users/fliprise/nltk_data...\n",
      "[nltk_data]   Package stopwords is already up-to-date!\n"
     ]
    }
   ],
   "source": [
    "#Data cleaning and preprocessing\n",
    "import re\n",
    "nltk.download('stopwords')\n",
    "\n",
    "from nltk.corpus import stopwords\n",
    "from nltk.stem.porter import PorterStemmer\n",
    "ps = PorterStemmer()\n",
    "corpus = []\n",
    "for i in range(0, len(df)):\n",
    "    review = re.sub('[^a-zA-Z]', ' ', processed[i])\n",
    "    review = review.lower()\n",
    "    review = review.split()\n",
    "    \n",
    "    review = [ps.stem(word) for word in review if not word in stopwords.words('english')]\n",
    "    review = ' '.join(review)\n",
    "    corpus.append(review)"
   ]
  },
  {
   "cell_type": "code",
   "execution_count": 18,
   "id": "95c40e5b",
   "metadata": {},
   "outputs": [
    {
     "name": "stdout",
     "output_type": "stream",
     "text": [
      "['go jurong point crazi avail bugi n great world la e buffet cine got amor wat', 'ok lar joke wif u oni', 'free entri wkli comp win fa cup final tkt st may text fa receiv entri question std txt rate c appli', 'u dun say earli hor u c alreadi say', 'nah think goe usf live around though', 'freemsg hey darl week word back like fun still tb ok xxx std chg send rcv', 'even brother like speak treat like aid patent', 'per request mell mell oru minnaminungint nurungu vettam set callertun caller press copi friend callertun', 'winner valu network custom select receivea prize reward claim call claim code kl valid hour', 'mobil month u r entitl updat latest colour mobil camera free call mobil updat co free', 'gonna home soon want talk stuff anymor tonight k cri enough today', 'six chanc win cash pound txt csh send cost p day day tsandc appli repli hl info', 'urgent week free membership prize jackpot txt word claim c www dbuk net lccltd pobox ldnw rw', 'search right word thank breather promis wont take help grant fulfil promis wonder bless time', 'date sunday']\n"
     ]
    }
   ],
   "source": [
    "print(corpus[:15])"
   ]
  },
  {
   "cell_type": "code",
   "execution_count": 19,
   "id": "33d1c267",
   "metadata": {},
   "outputs": [
    {
     "name": "stderr",
     "output_type": "stream",
     "text": [
      "[nltk_data] Downloading package punkt to /Users/fliprise/nltk_data...\n",
      "[nltk_data]   Package punkt is already up-to-date!\n"
     ]
    },
    {
     "name": "stdout",
     "output_type": "stream",
     "text": [
      "Most common words: [('u', 1212), ('call', 693), ('go', 459), ('get', 458), ('ur', 385), ('gt', 318), ('lt', 316), ('come', 302), ('ok', 292), ('day', 291), ('free', 288), ('know', 274), ('love', 260), ('like', 259), ('time', 253)]\n"
     ]
    }
   ],
   "source": [
    "import nltk\n",
    "nltk.download('punkt')\n",
    "from nltk.tokenize import word_tokenize\n",
    "all_word = []\n",
    "for i in corpus:\n",
    "    words = word_tokenize(i)\n",
    "    for ii in words:\n",
    "        all_word.append(ii)\n",
    "\n",
    "all_word2 = nltk.FreqDist(all_word)\n",
    "\n",
    "print('Most common words: {}'.format(all_word2.most_common(15)))"
   ]
  },
  {
   "cell_type": "code",
   "execution_count": 20,
   "id": "ec689d1f",
   "metadata": {},
   "outputs": [
    {
     "name": "stdout",
     "output_type": "stream",
     "text": [
      "Length of all word is 50045\n"
     ]
    }
   ],
   "source": [
    "print(\"Length of all word is\" + \" \" + str(len(all_word)))"
   ]
  },
  {
   "cell_type": "code",
   "execution_count": 21,
   "id": "b877a311",
   "metadata": {},
   "outputs": [],
   "source": [
    "from wordcloud import WordCloud, STOPWORDS, ImageColorGenerator\n",
    "import matplotlib.cm as cm\n",
    "import matplotlib.pyplot as plt\n",
    "%matplotlib inline\n",
    "wc=WordCloud()\n",
    "#word_cloud=wc.generate(all_word)"
   ]
  },
  {
   "cell_type": "code",
   "execution_count": 22,
   "id": "2135cd61",
   "metadata": {},
   "outputs": [
    {
     "name": "stdout",
     "output_type": "stream",
     "text": [
      "Counter({'u': 1212, 'call': 693, 'go': 459, 'get': 458, 'ur': 385, 'gt': 318, 'lt': 316, 'come': 302, 'ok': 292, 'day': 291, 'free': 288, 'know': 274, 'love': 260, 'like': 259, 'time': 253, 'got': 252, 'want': 246, 'good': 246, 'text': 233, 'send': 213, 'txt': 197, 'need': 189, 'p': 188, 'one': 184, 'today': 181, 'n': 174, 'take': 173, 'see': 172, 'r': 171, 'stop': 171, 'home': 167, 'think': 166, 'repli': 164, 'lor': 162, 'k': 160, 'sorri': 160, 'tell': 158, 'still': 157, 'mobil': 157, 'back': 153, 'da': 152, 'make': 148, 'dont': 144, 'phone': 142, 'week': 141, 'say': 139, 'pleas': 139, 'hi': 138, 'new': 136, 'work': 135, 'pl': 135, 'later': 135, 'hope': 133, 'ask': 133, 'co': 132, 'miss': 131, 'msg': 131, 'min': 129, 'meet': 128, 'c': 126, 'messag': 125, 'dear': 125, 'night': 122, 'wait': 121, 'happi': 120, 'well': 119, 'thing': 117, 'great': 116, 'much': 116, 'claim': 115, 'oh': 114, 'tri': 114, 'give': 114, 'wat': 113, 'hey': 112, 'number': 110, 'na': 109, 'b': 108, 'friend': 107, 'thank': 107, 'ye': 103, 'way': 103, 'www': 100, 'e': 98, 'prize': 97, 'let': 97, 'feel': 95, 'wan': 95, 'right': 94, 'tomorrow': 93, 'even': 92, 'win': 91, 'alreadi': 91, 'pick': 91, 'tone': 90, 'cash': 89, 'said': 88, 'yeah': 87, 'leav': 87, 'realli': 86, 'amp': 86, 'im': 86, 'care': 86, 'find': 85, 'babe': 85, 'morn': 83, 'life': 82, 'last': 79, 'sleep': 79, 'uk': 78, 'year': 78, 'servic': 78, 'sure': 77, 'nokia': 77, 'keep': 77, 'use': 76, 'com': 76, 'buy': 76, 'would': 76, 'contact': 75, 'lol': 74, 'anyth': 74, 'also': 74, 'urgent': 73, 'start': 73, 'wish': 73, 'everi': 73, 'look': 72, 'smile': 71, 'sent': 70, 'watch': 69, 'end': 69, 'someth': 69, 'show': 69, 'award': 68, 'finish': 67, 'us': 67, 'x': 66, 'place': 66, 'cant': 66, 'help': 65, 'first': 65, 'w': 63, 'custom': 62, 'next': 62, 'nice': 62, 'someon': 62, 'went': 62, 'box': 62, 'chat': 62, 'guy': 62, 'around': 61, 'word': 61, 'soon': 61, 'talk': 61, 'tonight': 61, 'special': 61, 'late': 61, 'person': 61, 'could': 60, 'money': 60, 'collect': 60, 'per': 59, 'gon': 59, 'name': 59, 'mani': 59, 'sm': 58, 'plan': 58, 'ya': 58, 'live': 57, 'alway': 57, 'check': 56, 'minut': 56, 'st': 55, 'dun': 55, 'v': 55, 'pm': 55, 'lot': 55, 'gud': 55, 'shop': 54, 'told': 54, 'hello': 53, 'mean': 53, 'hour': 52, 'month': 52, 'fine': 52, 'girl': 52, 'heart': 52, 'reach': 51, 'peopl': 51, 'haha': 51, 'may': 50, 'done': 50, 'offer': 50, 'guarante': 50, 'yet': 50, 'happen': 50, 'thk': 50, 'th': 50, 'thought': 49, 'best': 49, 'ppm': 49, 'cost': 48, 'play': 48, 'god': 48, 'stuff': 47, 'class': 47, 'holiday': 47, 'line': 47, 'fuck': 47, 'receiv': 46, 'lunch': 46, 'car': 46, 'man': 46, 'eat': 45, 'mayb': 45, 'job': 45, 'draw': 45, 'hous': 45, 'enjoy': 45, 'worri': 44, 'bit': 44, 'never': 44, 'wk': 44, 'ill': 44, 'cs': 44, 'problem': 44, 'yup': 43, 'that': 43, 'better': 43, 'hr': 43, 'account': 43, 'readi': 43, 'rate': 42, 'pobox': 42, 'date': 42, 'rington': 42, 'cool': 42, 'long': 42, 'drive': 42, 'guess': 42, 'dat': 42, 'mind': 42, 'chanc': 41, 'weekend': 41, 'boy': 41, 'game': 41, 'quit': 41, 'world': 40, 'latest': 40, 'pay': 40, 'half': 40, 'real': 40, 'wonder': 39, 'room': 39, 'yo': 39, 'sir': 39, 'book': 39, 'bring': 39, 'lar': 38, 'camera': 38, 'noth': 38, 'g': 38, 'voucher': 38, 'pic': 38, 'question': 37, 'charg': 37, 'sweet': 37, 'anoth': 37, 'join': 37, 'luv': 37, 'liao': 37, 'big': 37, 'shit': 37, 'select': 36, 'dinner': 36, 'ah': 36, 'birthday': 36, 'landlin': 36, 'bt': 36, 'age': 36, 'stay': 36, 'po': 36, 'kiss': 36, 'put': 36, 'speak': 35, 'network': 35, 'rememb': 35, 'ju': 35, 'video': 35, 'might': 35, 'ever': 35, 'land': 35, 'appli': 34, 'xxx': 34, 'actual': 34, 'point': 33, 'final': 33, 'earli': 33, 'fun': 33, 'nd': 33, 'run': 33, 'di': 33, 'hear': 33, 'pa': 33, 'bed': 33, 'chang': 33, 'aight': 33, 'anyway': 33, 'tv': 33, 'thanx': 33, 'babi': 33, 'orang': 33, 'probabl': 33, 'wont': 32, 'part': 32, 'hurt': 32, 'forgot': 32, 'answer': 32, 'nite': 32, 'shall': 32, 'two': 32, 'sat': 32, 'offic': 32, 'den': 32, 'bad': 32, 'princess': 32, 'code': 31, 'left': 31, 'dream': 31, 'easi': 31, 'wake': 31, 'gift': 31, 'dunno': 31, 'bu': 30, 'pain': 30, 'frnd': 30, 'mail': 30, 'littl': 30, 'leh': 30, 'sound': 30, 'walk': 30, 'face': 30, 'didnt': 30, 'wife': 30, 'dad': 30, 'enough': 29, 'pound': 29, 'xx': 29, 'afternoon': 29, 'movi': 29, 'school': 29, 'yr': 29, 'everyth': 29, 'true': 29, 'made': 29, 'detail': 29, 'mate': 29, 'entri': 28, 'without': 28, 'tmr': 28, 'lose': 28, 'read': 28, 'post': 28, 'poli': 28, 'bore': 28, 'town': 28, 'await': 28, 'wif': 27, 'though': 27, 'valid': 27, 'updat': 27, 'credit': 27, 'decid': 27, 'sinc': 27, 'came': 27, 'okay': 27, 'price': 27, 'test': 27, 'must': 27, 'sexi': 27, 'xma': 27, 'goe': 26, 'set': 26, 'colour': 26, 'lesson': 26, 'mob': 26, 'close': 26, 'abt': 26, 'til': 26, 'abl': 26, 'hav': 26, 'import': 26, 'wot': 26, 'drink': 26, 'juz': 25, 'enter': 25, 'order': 25, 'bath': 25, 'smoke': 25, 'decim': 25, 'music': 25, 'plz': 25, 'de': 25, 'away': 25, 'plu': 25, 'alright': 24, 'till': 24, 'saw': 24, 'yesterday': 24, 'doubl': 24, 'hair': 24, 'wen': 24, 'havent': 24, 'els': 24, 'busi': 24, 'top': 24, 'weekli': 24, 'dude': 24, 'beauti': 24, 'attempt': 24, 'drop': 24, 'net': 23, 'invit': 23, 'trip': 23, 'food': 23, 'haf': 23, 'hand': 23, 'id': 23, 'oso': 23, 'head': 23, 'optout': 23, 'friendship': 23, 'onlin': 23, 'goin': 23, 'lei': 23, 'search': 22, 'nation': 22, 'ard': 22, 'deliveri': 22, 'address': 22, 'inform': 22, 'player': 22, 'coz': 22, 'open': 22, 'gr': 22, 'ring': 22, 'hot': 22, 'club': 22, 'j': 22, 'either': 22, 'listen': 22, 'sch': 22, 'famili': 22, 'brother': 21, 'http': 21, 'mom': 21, 'second': 21, 'bonu': 21, 'caus': 21, 'nt': 21, 'complet': 21, 'believ': 21, 'si': 21, 'stori': 21, 'hold': 21, 'wid': 21, 'full': 21, 'mth': 21, 'suit': 21, 'tot': 21, 'sae': 21, 'togeth': 21, 'sad': 21, 'info': 20, 'forget': 20, 'old': 20, 'match': 20, 'content': 20, 'studi': 20, 'touch': 20, 'noe': 20, 'die': 20, 'oki': 20, 'row': 20, 'chikku': 20, 'reason': 20, 'huh': 20, 'eve': 20, 'mum': 20, 'train': 20, 'email': 20, 'murder': 20, 'treat': 19, 'hl': 19, 'news': 19, 'aft': 19, 'fri': 19, 'tomo': 19, 'congrat': 19, 'took': 19, 'ta': 19, 'privat': 19, 'expir': 19, 'dog': 19, 'everyon': 19, 'parent': 19, 'awesom': 19, 'break': 19, 'unsubscrib': 19, 'simpl': 19, 'pub': 19, 'rite': 19, 'avail': 18, 'caller': 18, 'valu': 18, 'tho': 18, 'move': 18, 'download': 18, 'prob': 18, 'statement': 18, 'fanci': 18, 'tc': 18, 'compani': 18, 'wil': 18, 'reveal': 18, 'angri': 18, 'park': 18, 'choos': 18, 'sort': 18, 'card': 18, 'sister': 18, 'valentin': 18, 'current': 18, 'gd': 18, 'opt': 18, 'mine': 18, 'neva': 18, 'laugh': 18, 'anyon': 18, 'auction': 18, 'joke': 17, 'seem': 17, 'pass': 17, 'lucki': 17, 'ticket': 17, 'type': 17, 'what': 17, 'bank': 17, 'carlo': 17, 'worth': 17, 'found': 17, 'colleg': 17, 'forward': 17, 'visit': 17, 'whatev': 17, 'sun': 17, 'knw': 17, 'sell': 17, 'gal': 17, 'understand': 17, 'alon': 17, 'winner': 16, 'ha': 16, 'smth': 16, 'saturday': 16, 'usual': 16, 'song': 16, 'save': 16, 'oper': 16, 'gone': 16, 'hit': 16, 'friday': 16, 'uncl': 16, 'identifi': 16, 'ltd': 16, 'hard': 16, 'f': 16, 'log': 16, 'boytoy': 16, 'rs': 16, 'ga': 16, 'bill': 16, 'exam': 16, 'gbp': 16, 'secret': 16, 'congratul': 16, 'anytim': 16, 'far': 16, 'fone': 16, 'return': 16, 'mobileupd': 16, 'welcom': 16, 'kind': 16, 'outsid': 16, 'sub': 16, 'fast': 16, 'sit': 16, 'parti': 16, 'surpris': 16, 'crazi': 15, 'confirm': 15, 'camcord': 15, 'cut': 15, 'follow': 15, 'rain': 15, 'mu': 15, 'quiz': 15, 'wit': 15, 'darlin': 15, 'goodmorn': 15, 'oredi': 15, 'case': 15, 'tel': 15, 'light': 15, 'interest': 15, 'project': 15, 'bout': 15, 'ad': 15, 'differ': 15, 'remov': 15, 'cum': 15, 'term': 15, 'nope': 15, 'pretti': 15, 'sea': 15, 'clean': 15, 'drug': 15, 'wrong': 15, 'least': 15, 'chennai': 15, 'tht': 15, 'how': 15, 'wkli': 14, 'freemsg': 14, 'sunday': 14, 'wq': 14, 'hungri': 14, 'whole': 14, 'correct': 14, 'comput': 14, 'hmm': 14, 'tire': 14, 'ni': 14, 'spend': 14, 'cours': 14, 'mrng': 14, 'meant': 14, 'fr': 14, 'fix': 14, 'cd': 14, 'unlimit': 14, 'blue': 14, 'l': 14, 'jay': 14, 'rock': 14, 'ten': 14, 'suppos': 14, 'scream': 14, 'frm': 14, 'savamob': 14, 'kid': 14, 'snow': 14, 'earlier': 14, 'support': 14, 'press': 13, 'reward': 13, 'promis': 13, 'eh': 13, 'turn': 13, 'catch': 13, 'almost': 13, 'etc': 13, 'hee': 13, 'shower': 13, 'mah': 13, 'felt': 13, 'activ': 13, 'pray': 13, 'wine': 13, 'joy': 13, 'hmmm': 13, 'mr': 13, 'balanc': 13, 'march': 13, 'side': 13, 'dnt': 13, 'singl': 13, 'stupid': 13, 'bslvyl': 13, 'normal': 13, 'lost': 13, 'christma': 13, 'figur': 13, 'ago': 13, 'moment': 13, 'motorola': 13, 'coupl': 13, 'ass': 13, 'india': 13, 'sk': 13, 'within': 13, 'un': 13, 'redeem': 13, 'marri': 13, 'yar': 13, 'area': 13, 'paper': 13, 'sex': 13, 'eye': 13, 'store': 13, 'film': 13, 'luck': 13, 'john': 13, 'fren': 13, 'father': 13, 'comp': 12, 'cheer': 12, 'crave': 12, 'hospit': 12, 'wow': 12, 'ac': 12, 'red': 12, 'complimentari': 12, 'stand': 12, 'load': 12, 'askd': 12, 'direct': 12, 'sometim': 12, 'safe': 12, 'deal': 12, 'connect': 12, 'semest': 12, 'teach': 12, 'laptop': 12, 'disturb': 12, 'swing': 12, 'via': 12, 'ish': 12, 'met': 12, 'seen': 12, 'slow': 12, 'rental': 12, 'nyt': 12, 'rent': 12, 'ipod': 12, 'ladi': 12, 'max': 12, 'remind': 12, 'gym': 12, 'darren': 12, 'xy': 12, 'an': 12, 'ugh': 12, 'extra': 12, 'knew': 12, 'photo': 12, 'heard': 12, 'fill': 12, 'grin': 12, 'difficult': 12, 'std': 11, 'usf': 11, 'request': 11, 'copi': 11, 'wap': 11, 'link': 11, 'eg': 11, 'comin': 11, 'abiola': 11, 'rpli': 11, 'includ': 11, 'loan': 11, 'page': 11, 'txting': 11, 'lovabl': 11, 'muz': 11, 'orchard': 11, 'kate': 11, 'regist': 11, 'bcoz': 11, 'road': 11, 'expect': 11, 'lover': 11, 'wana': 11, 'hmv': 11, 'somebodi': 11, 'rest': 11, 'small': 11, 'ex': 11, 'hg': 11, 'discount': 11, 'ldn': 11, 'monday': 11, 'fight': 11, 'silent': 11, 'member': 11, 'blood': 11, 'warm': 11, 'door': 11, 'ts': 11, 'idea': 11, 'subscrib': 11, 'possibl': 11, 'fall': 11, 'whenev': 11, 'asap': 11, 'truth': 11, 'convey': 11, 'cancel': 11, 'fantasi': 11, 'fact': 11, 'slowli': 11, 'gn': 11, 'polic': 11, 'la': 10, 'nah': 10, 'callertun': 10, 'bless': 10, 'england': 10, 'sick': 10, 'oop': 10, 'situat': 10, 'short': 10, 'recent': 10, 'il': 10, 'repres': 10, 'gave': 10, 'men': 10, 'apart': 10, 'quot': 10, 'del': 10, 'soni': 10, 'wast': 10, 'trust': 10, 'sign': 10, 'kick': 10, 'admir': 10, 'deep': 10, 'ge': 10, 'tonit': 10, 'somewher': 10, 'merri': 10, 'pete': 10, 'record': 10, 'immedi': 10, 'access': 10, 'custcar': 10, 'rakhesh': 10, 'woke': 10, 'mistak': 10, 'mm': 10, 'share': 10, 'yep': 10, 'voic': 10, 'wc': 10, 'style': 10, 'water': 10, 'opinion': 10, 'less': 10, 'children': 10, 'across': 10, 'cheap': 10, 'em': 10, 'ho': 10, 'gap': 10, 'fantast': 10, 'glad': 10, 'summer': 10, 'getz': 10, 'bag': 10, 'gettin': 10, 'wed': 10, 'poor': 10, 'otherwis': 10, 'ntt': 10, 'cr': 10, 'sale': 10, 'rd': 10, 'regard': 10, 'digit': 10, 'doctor': 10, 'energi': 10, 'nobodi': 10, 'bb': 10, 'write': 10, 'cover': 10, 'doin': 10, 'hw': 10, 'excus': 10, 'cook': 10, 'med': 10, 'empti': 10, 'cup': 9, 'serious': 9, 'mark': 9, 'ice': 9, 'bx': 9, 'ip': 9, 'forev': 9, 'password': 9, 'boss': 9, 'flight': 9, 'app': 9, 'sunshin': 9, 'lazi': 9, 'lect': 9, 'doesnt': 9, 'lift': 9, 'especi': 9, 'dead': 9, 'mrt': 9, 'ive': 9, 'appreci': 9, 'street': 9, 'flirt': 9, 'goodnight': 9, 'ldew': 9, 'unless': 9, 'teas': 9, 'rose': 9, 'sport': 9, 'accept': 9, 'power': 9, 'cake': 9, 'rcvd': 9, 'round': 9, 'urself': 9, 'basic': 9, 'weed': 9, 'bluetooth': 9, 'refer': 9, 'al': 9, 'none': 9, 'logo': 9, 'kinda': 9, 'result': 9, 'depend': 9, 'meh': 9, 'near': 9, 'hotel': 9, 'hurri': 9, 'indian': 9, 'noon': 9, 'pc': 9, 'bold': 9, 'add': 9, 'norm': 9, 'bid': 9, 'comuk': 9, 'chariti': 9, 'tampa': 9, 'user': 9, 'mid': 9, 'greet': 9, 'gay': 9, 'wear': 9, 'hiya': 9, 'deliv': 9, 'mon': 9, 'mode': 9, 'other': 9, 'moral': 9, 'total': 9, 'natur': 9, 'arriv': 9, 'excel': 9, 'list': 9, 'thinkin': 9, 'flag': 9, 'colleagu': 9, 'sofa': 9, 'entitl': 8, 'anymor': 8, 'team': 8, 'pizza': 8, 'egg': 8, 'clear': 8, 'quick': 8, 'learn': 8, 'roommat': 8, 'letter': 8, 'nigeria': 8, 'cinema': 8, 'spent': 8, 'pleasur': 8, 'troubl': 8, 'ave': 8, 'umma': 8, 'weight': 8, 'inc': 8, 'bother': 8, 'bak': 8, 'q': 8, 'dvd': 8, 'sp': 8, 'shirt': 8, 'becom': 8, 'goto': 8, 'experi': 8, 'freephon': 8, 'howev': 8, 'settl': 8, 'success': 8, 'slept': 8, 'file': 8, 'tnc': 8, 'ppmx': 8, 'lemm': 8, 'celebr': 8, 'sens': 8, 'coffe': 8, 'imagin': 8, 'definit': 8, 'wiv': 8, 'practic': 8, 'fault': 8, 'pictur': 8, 'facebook': 8, 'fullonsm': 8, 'yahoo': 8, 'aha': 8, 'funni': 8, 'respond': 8, 'din': 8, 'thru': 8, 'wx': 8, 'reali': 8, 'mp': 8, 'fat': 8, 'finger': 8, 'self': 8, 'workin': 8, 'daddi': 8, 'present': 8, 'ar': 8, 'euro': 8, 'futur': 8, 'alex': 8, 'offici': 8, 'longer': 8, 'tuesday': 8, 'bedroom': 8, 'king': 8, 'student': 8, 'librari': 8, 'space': 8, 'slave': 8, 'omg': 8, 'moon': 8, 'travel': 8, 'iam': 8, 'mo': 8, 'medic': 8, 'process': 8, 'black': 8, 'cute': 8, 'honey': 8, 'vl': 8, 'south': 8, 'wednesday': 8, 'er': 8, 'manag': 8, 'pix': 8, 'mood': 8, 'tear': 8, 'issu': 8, 'bugi': 7, 'cine': 7, 'darl': 7, 'cri': 7, 'click': 7, 'naughti': 7, 'suck': 7, 'tea': 7, 'pack': 7, 'subscript': 7, 'ahead': 7, 'kept': 7, 'weak': 7, 'realiz': 7, 'kill': 7, 'wun': 7, 'respect': 7, 'locat': 7, 'cuz': 7, 'eatin': 7, 'countri': 7, 'yiju': 7, 'swt': 7, 'arrang': 7, 'excit': 7, 'internet': 7, 'menu': 7, 'hop': 7, 'discuss': 7, 'hell': 7, 'toward': 7, 'buck': 7, 'past': 7, 'system': 7, 'biz': 7, 'batteri': 7, 'kalli': 7, 'cal': 7, 'ship': 7, 'horni': 7, 'nake': 7, 'qualiti': 7, 'sim': 7, 'loyalti': 7, 'high': 7, 'key': 7, 'uz': 7, 'advanc': 7, 'kb': 7, 'yoga': 7, 'insur': 7, 'maxim': 7, 'cc': 7, 'cold': 7, 'air': 7, 'sigh': 7, 'relax': 7, 'irrit': 7, 'lac': 7, 'dollar': 7, 'tough': 7, 'transfer': 7, 'notic': 7, 'tenerif': 7, 'sec': 7, 'condit': 7, 'charact': 7, 'tat': 7, 'unsub': 7, 'malaria': 7, 'lead': 7, 'rather': 7, 'omw': 7, 'gee': 7, 'bare': 7, 'marriag': 7, 'izzit': 7, 'spree': 7, 'announc': 7, 'imma': 7, 'shuhui': 7, 'weather': 7, 'paid': 7, 'pop': 7, 'login': 7, 'fetch': 7, 'awak': 7, 'torch': 7, 'dey': 7, 'mad': 7, 'holla': 7, 'yest': 7, 'tsc': 7, 'sing': 7, 'model': 7, 'mother': 7, 'matter': 7, 'hai': 7, 'bird': 7, 'midnight': 7, 'januari': 7, 'piss': 7, 'xh': 7, 'score': 7, 'heavi': 7, 'nxt': 7, 'miracl': 7, 'flower': 7, 'receipt': 7, 'onto': 7, 'station': 7, 'tuition': 7, 'strong': 7, 'doc': 7, 'cell': 7, 'alrit': 7, 'shd': 7, 'croydon': 7, 'wb': 7, 'lmao': 7, 'vomit': 7, 'prefer': 7, 'instead': 7, 'buzz': 7, 'titl': 7, 'respons': 7, 'insid': 7, 'sight': 7, 'remain': 7, 'thnk': 7, 'costa': 7, 'sol': 7, 'role': 7, 'vikki': 7, 'wors': 7, 'sky': 7, 'maid': 7, 'behind': 7, 'feb': 7, 'ignor': 7, 'hug': 7, 'tm': 7, 'mell': 6, 'stock': 6, 'inch': 6, 'tyler': 6, 'fyi': 6, 'review': 6, 'ls': 6, 'coin': 6, 'kano': 6, 'simpli': 6, 'verifi': 6, 'hol': 6, 'consid': 6, 'lie': 6, 'wa': 6, 'directli': 6, 'standard': 6, 'local': 6, 'begin': 6, 'qatar': 6, 'delet': 6, 'spoke': 6, 'bye': 6, 'straight': 6, 'partner': 6, 'career': 6, 'star': 6, 'argument': 6, 'websit': 6, 'childish': 6, 'handset': 6, 'dint': 6, 'sunni': 6, 'anybodi': 6, 'throw': 6, 'hang': 6, 'track': 6, 'report': 6, 'surf': 6, 'num': 6, 'breath': 6, 'cuddl': 6, 'will': 6, 'guid': 6, 'stoptxt': 6, 'pilat': 6, 'aathi': 6, 'wnt': 6, 'vri': 6, 'hv': 6, 'vari': 6, 'askin': 6, 'group': 6, 'ttyl': 6, 'isnt': 6, 'decis': 6, 'moan': 6, 'fb': 6, 'matur': 6, 'jst': 6, 'gb': 6, 'pin': 6, 'adult': 6, 'campu': 6, 'aiyo': 6, 'daili': 6, 'vodafon': 6, 'holder': 6, 'earth': 6, 'evng': 6, 'envelop': 6, 'prepar': 6, 'law': 6, 'wer': 6, 'aftr': 6, 'exactli': 6, 'yay': 6, 'txtauction': 6, 'damn': 6, 'boo': 6, 'cm': 6, 'zed': 6, 'green': 6, 'skype': 6, 'five': 6, 'version': 6, 'sup': 6, 'fail': 6, 'due': 6, 'attend': 6, 'ate': 6, 'wherev': 6, 'hp': 6, 'expens': 6, 'brand': 6, 'contract': 6, 'kerala': 6, 'loverboy': 6, 'fool': 6, 'seriou': 6, 'april': 6, 'bitch': 6, 'sipix': 6, 'aiyah': 6, 'urawinn': 6, 'howz': 6, 'oz': 6, 'choic': 6, 'arm': 6, 'tour': 6, 'super': 6, 'cafe': 6, 'vote': 6, 'bought': 6, 'except': 6, 'freak': 6, 'london': 6, 'lookin': 6, 'hook': 6, 'arcad': 6, 'creat': 6, 'beer': 6, 'hate': 6, 'toclaim': 6, 'stockport': 6, 'relat': 6, 'theatr': 6, 'ahmad': 6, 'armand': 6, 'nimya': 6, 'sed': 6, 'pussi': 6, 'solv': 6, 'budget': 6, 'random': 6, 'plenti': 6, 'amaz': 6, 'cancer': 6, 'bro': 6, 'tariff': 6, 'tick': 6, 'tb': 5, 'ldnw': 5, 'spell': 5, 'wet': 5, 'goal': 5, 'str': 5, 'convinc': 5, 'burn': 5, 'ride': 5, 'embarass': 5, 'plane': 5, 'urgnt': 5, 'sum': 5, 'appoint': 5, 'boston': 5, 'truli': 5, 'scare': 5, 'tt': 5, 'cabin': 5, 'voda': 5, 'predict': 5, 'laid': 5, 'ec': 5, 'interview': 5, 'avoid': 5, 'satisfi': 5, 'suggest': 5, 'transact': 5, 'can': 5, 'not': 5, 'sen': 5, 'atm': 5, 'romant': 5, 'mtmsg': 5, 'cross': 5, 'sam': 5, 'print': 5, 'argu': 5, 'bcum': 5, 'affect': 5, 'h': 5, 'ray': 5, 'bf': 5, 'meal': 5, 'themob': 5, 'enemi': 5, 'pongal': 5, 'decemb': 5, 'allah': 5, 'sonyericsson': 5, 'geeee': 5, 'bar': 5, 'bodi': 5, 'lick': 5, 'intro': 5, 'yan': 5, 'jiu': 5, 'competit': 5, 'hostel': 5, 'express': 5, 'amt': 5, 'bcm': 5, 'concentr': 5, 'acc': 5, 'woman': 5, 'flat': 5, 'ja': 5, 'villag': 5, 'spl': 5, 'stylish': 5, 'prabha': 5, 'passion': 5, 'english': 5, 'btw': 5, 'mrw': 5, 'jazz': 5, 'yogasana': 5, 'exhaust': 5, 'somethin': 5, 'aunti': 5, 'thursday': 5, 'cartoon': 5, 'gentl': 5, 'belli': 5, 'peac': 5, 'lone': 5, 'build': 5, 'purchas': 5, 'harri': 5, 'alert': 5, 'stress': 5, 'assum': 5, 'twice': 5, 'opportun': 5, 'clock': 5, 'citi': 5, 'meetin': 5, 'ti': 5, 'polyphon': 5, 'piec': 5, 'sura': 5, 'unsold': 5, 'derek': 5, 'white': 5, 'cheaper': 5, 'ym': 5, 'diet': 5, 'bowl': 5, 'site': 5, 'salari': 5, 'videophon': 5, 'videochat': 5, 'java': 5, 'dload': 5, 'nolin': 5, 'rentl': 5, 'yun': 5, 'jesu': 5, 'regret': 5, 'asleep': 5, 'stamp': 5, 'lectur': 5, 'rais': 5, 'gm': 5, 'xchat': 5, 'uni': 5, 'italian': 5, 'speed': 5, 'horribl': 5, 'nw': 5, 'island': 5, 'jordan': 5, 'chines': 5, 'hun': 5, 'rang': 5, 'cbe': 5, 'broke': 5, 'lion': 5, 'origin': 5, 'rush': 5, 'pple': 5, 'arrest': 5, 'linerent': 5, 'rem': 5, 'everybodi': 5, 'fli': 5, 'googl': 5, 'aint': 5, 'centr': 5, 'airport': 5, 'blank': 5, 'chase': 5, 'ador': 5, 'eeri': 5, 'allow': 5, 'ran': 5, 'bin': 5, 'social': 5, 'bun': 5, 'replac': 5, 'season': 5, 'nvm': 5, 'provid': 5, 'obvious': 5, 'boost': 5, 'affair': 5, 'eng': 5, 'art': 5, 'inclus': 5, 'mile': 5, 'hill': 5, 'latr': 5, 'unabl': 5, 'whether': 5, 'possess': 5, 'spook': 5, 'limit': 5, 'dress': 5, 'garden': 5, 'brilliant': 5, 'ru': 5, 'amount': 5, 'advic': 5, 'note': 5, 'thur': 5, 'lik': 5, 'nat': 5, 'step': 5, 'mnth': 5, 'common': 5, 'oni': 4, 'fa': 4, 'tkt': 4, 'rcv': 4, 'oru': 4, 'six': 4, 'membership': 4, 'sooner': 4, 'forc': 4, 'child': 4, 'gram': 4, 'crash': 4, 'url': 4, 'seri': 4, 'iq': 4, 'advis': 4, 'dedic': 4, 'wah': 4, 'machan': 4, 'moro': 4, 'sheet': 4, 'becoz': 4, 'fml': 4, 'ham': 4, 'legal': 4, 'nyc': 4, 'research': 4, 'unredeem': 4, 'yetund': 4, 'ansr': 4, 'tyron': 4, 'largest': 4, 'befor': 4, 'biggest': 4, 'netcollex': 4, 'window': 4, 'modul': 4, 'escap': 4, 'form': 4, 'bloodi': 4, 'mummi': 4, 'radio': 4, 'uniqu': 4, 'shoot': 4, 'instal': 4, 'teacher': 4, 'recd': 4, 'closer': 4, 'theori': 4, 'kettoda': 4, 'manda': 4, 'mmm': 4, 'wt': 4, 'bay': 4, 'percent': 4, 'cam': 4, 'accident': 4, 'upgrad': 4, 'shock': 4, 'def': 4, 'hide': 4, 'belovd': 4, 'smart': 4, 'afraid': 4, 'cud': 4, 'ppl': 4, 'waitin': 4, 'dine': 4, 'wtf': 4, 'cream': 4, 'esplanad': 4, 'sourc': 4, 'fifteen': 4, 'journey': 4, 'gorgeou': 4, 'improv': 4, 'purpos': 4, 'tenant': 4, 'refus': 4, 'ure': 4, 'intellig': 4, 'posit': 4, 'cw': 4, 'dri': 4, 'center': 4, 'jada': 4, 'kusruthi': 4, 'mtmsgrcvd': 4, 'mono': 4, 'cha': 4, 'renew': 4, 'bday': 4, 'rude': 4, 'ma': 4, 'pg': 4, 'develop': 4, 'confid': 4, 'bloke': 4, 'three': 4, 'gener': 4, 'milk': 4, 'magic': 4, 'essenti': 4, 'lab': 4, 'bite': 4, 'danc': 4, 'grand': 4, 'pie': 4, 'pari': 4, 'often': 4, 'leona': 4, 'grow': 4, 'bud': 4, 'market': 4, 'effect': 4, 'taken': 4, 'templ': 4, 'church': 4, 'sw': 4, 'ss': 4, 'bet': 4, 'hella': 4, 'lay': 4, 'explain': 4, 'map': 4, 'weird': 4, 'drivin': 4, 'height': 4, 'ws': 4, 'upset': 4, 'low': 4, 'faster': 4, 'shout': 4, 'realis': 4, 'spoken': 4, 'confus': 4, 'act': 4, 'skilgm': 4, 'winawk': 4, 'appar': 4, 'beg': 4, 'perfect': 4, 'dictionari': 4, 'appt': 4, 'hunni': 4, 'ach': 4, 'qxj': 4, 'ae': 4, 'profit': 4, 'brain': 4, 'cust': 4, 'morrow': 4, 'ibiza': 4, 'wp': 4, 'meanwhil': 4, 'impress': 4, 'spk': 4, 'vip': 4, 'suppli': 4, 'wall': 4, 'pig': 4, 'addict': 4, 'fever': 4, 'tcr': 4, 'graviti': 4, 'chicken': 4, 'talent': 4, 'ph': 4, 'sore': 4, 'aunt': 4, 'throat': 4, 'june': 4, 'le': 4, 'technic': 4, 'wu': 4, 'vijay': 4, 'dem': 4, 'math': 4, 'aiyar': 4, 'wrc': 4, 'ralli': 4, 'lucozad': 4, 'shame': 4, 'mite': 4, 'easier': 4, 'txtin': 4, 'xxxxxxx': 4, 'exact': 4, 'favour': 4, 'jamster': 4, 'idiot': 4, 'februari': 4, 'blackberri': 4, 'moji': 4, 'gentli': 4, 'bear': 4, 'upload': 4, 'reserv': 4, 'urn': 4, 'msgrcvdhg': 4, 'aiya': 4, 'bright': 4, 'textpod': 4, 'pod': 4, 'fl': 4, 'tablet': 4, 'puriti': 4, 'sha': 4, 'along': 4, 'shortli': 4, 'forum': 4, 'ron': 4, 'jhl': 4, 'yuo': 4, 'tih': 4, 'bishan': 4, 'idk': 4, 'fire': 4, 'brought': 4, 'comedi': 4, 'mobi': 4, 'action': 4, 'maintain': 4, 'accid': 4, 'queen': 4, 'bahama': 4, 'schedul': 4, 'atlanta': 4, 'takin': 4, 'jess': 4, 'dirti': 4, 'packag': 4, 'upto': 4, 'push': 4, 'pull': 4, 'master': 4, 'se': 4, 'cat': 4, 'hip': 4, 'wrk': 4, 'rule': 4, 'freefon': 4, 'gari': 4, 'infern': 4, 'qp': 4, 'giv': 4, 'yer': 4, 'feet': 4, 'requir': 4, 'kidz': 4, 'ntwk': 4, 'frndship': 4, 'leg': 4, 'ref': 4, 'wkend': 4, 'footbal': 4, 'happend': 4, 'sugar': 4, 'thangam': 4, 'roger': 4, 'sri': 4, 'releas': 4, 'ruin': 4, 'challeng': 4, 'serv': 4, 'sept': 4, 'public': 4, 'govt': 4, 'instituit': 4, 'dare': 4, 'dark': 4, 'teeth': 4, 'iz': 4, 'handl': 4, 'porn': 4, 'abi': 4, 'wave': 4, 'blow': 4, 'grl': 4, 'cheat': 4, 'fromm': 4, 'wyli': 4, 'outta': 4, 'bloomberg': 4, 'captain': 4, 'mumtaz': 4, 'stone': 4, 'born': 4, 'taunton': 4, 'loss': 4, 'deni': 4, 'santa': 4, 'minnaminungint': 3, 'nurungu': 3, 'vettam': 3, 'wale': 3, 'scotland': 3, 'slice': 3, 'caught': 3, 'fear': 3, 'xuhui': 3, 'yummi': 3, 'fair': 3, 'suprman': 3, 'matrix': 3, 'starwar': 3, 'burger': 3, 'dresser': 3, 'valuabl': 3, 'perform': 3, 'gentleman': 3, 'digniti': 3, 'shi': 3, 'earn': 3, 'nitro': 3, 'pour': 3, 'lido': 3, 'mix': 3, 'four': 3, 'vava': 3, 'loud': 3, 'sentenc': 3, 'anythin': 3, 'apologis': 3, 'hardcor': 3, 'occupi': 3, 'dot': 3, 'staff': 3, 'femal': 3, 'birla': 3, 'soft': 3, 'flow': 3, 'floor': 3, 'utter': 3, 'spanish': 3, 'mall': 3, 'maneesha': 3, 'toll': 3, 'august': 3, 'repair': 3, 'penc': 3, 'tomarrow': 3, 'avent': 3, 'slipper': 3, 'bat': 3, 'inning': 3, 'dearli': 3, 'ranjith': 3, 'mini': 3, 'flash': 3, 'jealou': 3, 'chart': 3, 'genuin': 3, 'gautham': 3, 'buzi': 3, 'scari': 3, 'jo': 3, 'newest': 3, 'gossip': 3, 'fit': 3, 'garag': 3, 'clo': 3, 'lvblefrnd': 3, 'jstfrnd': 3, 'cutefrnd': 3, 'lifpartnr': 3, 'swtheart': 3, 'bstfrnd': 3, 'gona': 3, 'women': 3, 'germani': 3, 'supervisor': 3, 'lifetim': 3, 'favourit': 3, 'stranger': 3, 'gudnit': 3, 'shag': 3, 'slap': 3, 'alcohol': 3, 'insha': 3, 'aliv': 3, 'spoil': 3, 'recognis': 3, 'ptbo': 3, 'ovul': 3, 'mobilesdirect': 3, 'shut': 3, 'calcul': 3, 'period': 3, 'quickli': 3, 'chechi': 3, 'tree': 3, 'sender': 3, 'skip': 3, 'blah': 3, 'tf': 3, 'ful': 3, 'attract': 3, 'bmw': 3, 'shortag': 3, 'arng': 3, 'iouri': 3, 'cricket': 3, 'sachin': 3, 'oic': 3, 'homeown': 3, 'previous': 3, 'oreo': 3, 'ami': 3, 'ear': 3, 'juli': 3, 'railway': 3, 'doggi': 3, 'fave': 3, 'dave': 3, 'wise': 3, 'tast': 3, 'fightng': 3, 'dificult': 3, 'fish': 3, 'fee': 3, 'soryda': 3, 'sori': 3, 'ibhltd': 3, 'slide': 3, 'behav': 3, 'elsewher': 3, 'qu': 3, 'channel': 3, 'ummmmmaah': 3, 'tirupur': 3, 'web': 3, 'cock': 3, 'own': 3, 'loos': 3, 'american': 3, 'callin': 3, 'dick': 3, 'snake': 3, 'headach': 3, 'tsunami': 3, 'swim': 3, 'morow': 3, 'nichol': 3, 'que': 3, 'hundr': 3, 'postcod': 3, 'seven': 3, 'tlp': 3, 'thanksgiv': 3, 'textoper': 3, 'accordingli': 3, 'farm': 3, 'csbcm': 3, 'callcost': 3, 'ba': 3, 'spring': 3, 'attach': 3, 'shorter': 3, 'gimm': 3, 'lip': 3, 'spare': 3, 'mt': 3, 'perwksub': 3, 'anywher': 3, 'diff': 3, 'commun': 3, 'subpoli': 3, 'bein': 3, 'jan': 3, 'weigh': 3, 'hint': 3, 'xxxx': 3, 'alfi': 3, 'hahaha': 3, 'xavier': 3, 'warn': 3, 'stomach': 3, 'sn': 3, 'virgin': 3, 'nap': 3, 'shesil': 3, 'liverpool': 3, 'mac': 3, 'outstand': 3, 'taylor': 3, 'male': 3, 'msging': 3, 'million': 3, 'welp': 3, 'hesit': 3, 'potenti': 3, 'polyph': 3, 'fuckin': 3, 'ubi': 3, 'wkg': 3, 'butt': 3, 'helen': 3, 'terribl': 3, 'fan': 3, 'exe': 3, 'prey': 3, 'foreign': 3, 'speechless': 3, 'roast': 3, 'educ': 3, 'drunk': 3, 'juici': 3, 'dearer': 3, 'sorrow': 3, 'evn': 3, 'itz': 3, 'alwi': 3, 'ne': 3, 'depress': 3, 'wind': 3, 'ground': 3, 'who': 3, 'error': 3, 'bigger': 3, 'celeb': 3, 'pocketbab': 3, 'voicemail': 3, 'walmart': 3, 'rofl': 3, 'anti': 3, 'delay': 3, 'variou': 3, 'textcomp': 3, 'havin': 3, 'execut': 3, 'jane': 3, 'ipad': 3, 'fran': 3, 'knacker': 3, 'softwar': 3, 'whenevr': 3, 'remembr': 3, 'among': 3, 'chill': 3, 'chillin': 3, 'sauci': 3, 'chain': 3, 'suffer': 3, 'suntec': 3, 'messeng': 3, 'screen': 3, 'tom': 3, 'shot': 3, 'storm': 3, 'phne': 3, 'margaret': 3, 'girlfrnd': 3, 'grahmbel': 3, 'invnt': 3, 'telphon': 3, 'recharg': 3, 'shld': 3, 'bewar': 3, 'option': 3, 'goodnit': 3, 'arsen': 3, 'missin': 3, 'guilti': 3, 'cardiff': 3, 'addi': 3, 'tue': 3, 'monkey': 3, 'certainli': 3, 'clair': 3, 'program': 3, 'twelv': 3, 'aah': 3, 'xxxxxxxxx': 3, 'hubbi': 3, 'minmobsmorelkpobox': 3, 'blake': 3, 'lotr': 3, 'base': 3, 'karaok': 3, 'eight': 3, 'format': 3, 'ese': 3, 'prospect': 3, 'buff': 3, 'gang': 3, 'adventur': 3, 'cloth': 3, 'courag': 3, 'brotha': 3, 'blame': 3, 'freez': 3, 'ringtonek': 3, 'fring': 3, 'switch': 3, 'event': 3, 'monthli': 3, 'sh': 3, 'cramp': 3, 'nan': 3, 'dislik': 3, 'despar': 3, 'mi': 3, 'album': 3, 'jame': 3, 'chosen': 3, 'telephon': 3, 'cruis': 3, 'stuck': 3, 'mention': 3, 'arun': 3, 'transfr': 3, 'philosophi': 3, 'combin': 3, 'husband': 3, 'toa': 3, 'payoh': 3, 'payment': 3, 'fathima': 3, 'mmmm': 3, 'ps': 3, 'nearli': 3, 'beyond': 3, 'jog': 3, 'abta': 3, 'tabl': 3, 'ikea': 3, 'cn': 3, 'kadeem': 3, 'wud': 3, 'carri': 3, 'avatar': 3, 'constantli': 3, 'lousi': 3, 'ic': 3, 'honeybe': 3, 'sweetest': 3, 'havnt': 3, 'crack': 3, 'boat': 3, 'proof': 3, 'yeh': 3, 'major': 3, 'birth': 3, 'onward': 3, 'skillgam': 3, 'winaweek': 3, 'ppermesssubscript': 3, 'calicut': 3, 'pink': 3, 'rich': 3, 'yor': 3, 'jason': 3, 'argh': 3, 'diamond': 3, 'tessi': 3, 'favor': 3, 'shija': 3, 'china': 3, 'morphin': 3, 'kindli': 3, 'smash': 3, 'pend': 3, 'raji': 3, 'continu': 3, 'distanc': 3, 'knock': 3, 'temp': 3, 'display': 3, 'soup': 3, 'regular': 3, 'threat': 3, 'loung': 3, 'cornwal': 3, 'iscom': 3, 'halloween': 3, 'measur': 3, 'thm': 3, 'wn': 3, 'instantli': 3, 'imposs': 3, 'responc': 3, 'vodka': 3, 'gain': 3, 'okey': 3, 'veget': 3, 'neighbour': 3, 'scienc': 3, 'madam': 3, 'bloo': 3, 'citizen': 3, 'block': 3, 'lock': 3, 'shove': 3, 'dai': 3, 'resum': 3, 'maga': 3, 'medicin': 3, 'incid': 3, 'violenc': 3, 'motiv': 3, 'erm': 3, 'instruct': 3, 'lp': 3, 'death': 3, 'realiti': 3, 'usc': 3, 'booti': 3, 'lil': 3, 'pout': 3, 'stomp': 3, 'petrol': 3, 'luxuri': 3, 'ben': 3, 'middl': 3, 'enuff': 3, 'strike': 3, 'seat': 3, 'flake': 3, 'histori': 3, 'bell': 3, 'reboot': 3, 'understood': 3, 'bottom': 3, 'disconnect': 3, 'crab': 3, 'footprint': 3, 'mess': 3, 'count': 3, 'randomli': 3, 'tape': 3, 'size': 3, 'auto': 3, 'deliveredtomorrow': 3, 'callback': 3, 'wisdom': 3, 'cann': 3, 'princ': 3, 'symbol': 3, 'mega': 3, 'prolli': 3, 'dubsack': 3, 'macho': 3, 'audit': 3, 'fell': 3, 'senthil': 3, 'forevr': 3, 'eaten': 3, 'concert': 3, 'univers': 3, 'california': 3, 'ball': 3, 'tog': 3, 'evri': 3, 'repeat': 3, 'haiz': 3, 'previou': 3, 'dsn': 3, 'warner': 3, 'wallpap': 3, 'bottl': 3, 'buffet': 2, 'hor': 2, 'chg': 2, 'aid': 2, 'receivea': 2, 'kl': 2, 'csh': 2, 'tsandc': 2, 'jackpot': 2, 'dbuk': 2, 'lccltd': 2, 'rw': 2, 'xxxmobilemovieclub': 2, 'vagu': 2, 'sarcast': 2, 'mmmmmm': 2, 'sucker': 2, 'eighth': 2, 'accomod': 2, 'sptv': 2, 'detroit': 2, 'hockey': 2, 'odi': 2, 'eurodisinc': 2, 'trav': 2, 'aco': 2, 'morefrmmob': 2, 'shracomorsglsuplt': 2, 'aj': 2, 'divorc': 2, 'jacket': 2, 'ela': 2, 'usher': 2, 'britney': 2, 'telugu': 2, 'noun': 2, 'gent': 2, 'formal': 2, 'puttin': 2, 'goodo': 2, 'potato': 2, 'tortilla': 2, 'appl': 2, 'involv': 2, 'algarv': 2, 'msn': 2, 'pouch': 2, 'somtim': 2, 'randi': 2, 'plaza': 2, 'everywher': 2, 'mouth': 2, 'bootydeli': 2, 'belov': 2, 'clark': 2, 'approach': 2, 'handsom': 2, 'wishin': 2, 'hamster': 2, 'refil': 2, 'inr': 2, 'keralacircl': 2, 'prepaid': 2, 'kr': 2, 'ericsson': 2, 'refund': 2, 'bruv': 2, 'os': 2, 'horo': 2, 'conduct': 2, 'upstair': 2, 'shine': 2, 'although': 2, 'commerci': 2, 'drpd': 2, 'deeraj': 2, 'deepak': 2, 'up': 2, 'lag': 2, 'necessarili': 2, 'headin': 2, 'jolt': 2, 'suzi': 2, 'rob': 2, 'gf': 2, 'tool': 2, 'jenni': 2, 'grave': 2, 'taxi': 2, 'actor': 2, 'blind': 2, 'unit': 2, 'thread': 2, 'funki': 2, 'tahan': 2, 'anot': 2, 'lo': 2, 'buse': 2, 'bristol': 2, 'apo': 2, 'prepay': 2, 'violat': 2, 'privaci': 2, 'steal': 2, 'paperwork': 2, 'carolin': 2, 'misbehav': 2, 'tissco': 2, 'tayseer': 2, 'unemploy': 2, 'audrey': 2, 'statu': 2, 'agre': 2, 'he': 2, 'dx': 2, 'salam': 2, 'grace': 2, 'inshah': 2, 'visitor': 2, 'field': 2, 'administr': 2, 'pw': 2, 'loxahatche': 2, 'slightli': 2, 'fav': 2, 'wld': 2, 'iron': 2, 'ch': 2, 'whatsup': 2, 'txttowin': 2, 'mobno': 2, 'adam': 2, 'txtno': 2, 'siva': 2, 'applebe': 2, 'bhaji': 2, 'truffl': 2, 'cope': 2, 'individu': 2, 'languag': 2, 'broken': 2, 'infront': 2, 'tension': 2, 'trade': 2, 'rec': 2, 'hyde': 2, 'anthoni': 2, 'signific': 2, 'scroung': 2, 'forgiven': 2, 'transport': 2, 'no': 2, 'unconsci': 2, 'ebay': 2, 'pickl': 2, 'taco': 2, 'abil': 2, 'recoveri': 2, 'cali': 2, 'faggi': 2, 'demand': 2, 'fo': 2, 'pan': 2, 'perhap': 2, 'mei': 2, 'browni': 2, 'geeeee': 2, 'jen': 2, 'oooh': 2, 'ey': 2, 'hardli': 2, 'ag': 2, 'promo': 2, 'occur': 2, 'soire': 2, 'reaction': 2, 'concern': 2, 'textbuddi': 2, 'gaytextbuddi': 2, 'ml': 2, 'expressoff': 2, 'sweetheart': 2, 'biola': 2, 'restock': 2, 'wee': 2, 'jolli': 2, 'rstm': 2, 'panic': 2, 'wesley': 2, 'dealer': 2, 'impati': 2, 'river': 2, 'premium': 2, 'en': 2, 'yell': 2, 'hex': 2, 'sue': 2, 'cochin': 2, 'engag': 2, 'poop': 2, 'gpu': 2, 'dehydr': 2, 'deck': 2, 'aeronaut': 2, 'professor': 2, 'calld': 2, 'aeroplan': 2, 'dorm': 2, 'mobilesvari': 2, 'px': 2, 'cooki': 2, 'admit': 2, 'ctxt': 2, 'helplin': 2, 'gist': 2, 'thousand': 2, 'premier': 2, 'faith': 2, 'vibrat': 2, 'grandma': 2, 'yf': 2, 'hunt': 2, 'weasel': 2, 'punish': 2, 'pole': 2, 'thot': 2, 'petey': 2, 'nic': 2, 'cashto': 2, 'getstop': 2, 'php': 2, 'rg': 2, 'imp': 2, 'bec': 2, 'nervou': 2, 'costum': 2, 'borrow': 2, 'galileo': 2, 'dobbi': 2, 'lovem': 2, 'sip': 2, 'cappuccino': 2, 'mojibiola': 2, 'kz': 2, 'given': 2, 'ultimatum': 2, 'countin': 2, 'aburo': 2, 'inconsider': 2, 'nag': 2, 'recess': 2, 'henc': 2, 'soo': 2, 'shoe': 2, 'discreet': 2, 'spoon': 2, 'geniu': 2, 'lotta': 2, 'mysteri': 2, 'smsco': 2, 'approx': 2, 'xxxxxx': 2, 'fixedlin': 2, 'castor': 2, 'stopsm': 2, 'massag': 2, 'oil': 2, 'permiss': 2, 'usb': 2, 'gibb': 2, 'unbeliev': 2, 'superb': 2, 'agent': 2, 'sever': 2, 'smell': 2, 'worst': 2, 'charl': 2, 'peak': 2, 'chip': 2, 'yck': 2, 'ashley': 2, 'blog': 2, 'lux': 2, 'jean': 2, 'stuf': 2, 'bleh': 2, 'ton': 2, 'applic': 2, 'lodg': 2, 'ms': 2, 'filthi': 2, 'simpler': 2, 'necklac': 2, 'race': 2, 'rice': 2, 'crap': 2, 'borin': 2, 'chocol': 2, 'reckon': 2, 'tech': 2, 'quiet': 2, 'hero': 2, 'drove': 2, 'anniversari': 2, 'imag': 2, 'pen': 2, 'secretli': 2, 'datebox': 2, 'essexcm': 2, 'xn': 2, 'pattern': 2, 'scratch': 2, 'plm': 2, 'sheffield': 2, 'nanni': 2, 'zoe': 2, 'blanket': 2, 'suffici': 2, 'thx': 2, 'edison': 2, 'rightli': 2, 'viva': 2, 'hb': 2, 'kickoff': 2, 'thesi': 2, 'eastend': 2, 'compar': 2, 'violet': 2, 'tulip': 2, 'lili': 2, 'wkent': 2, 'dentist': 2, 'oi': 2, 'craziest': 2, 'planet': 2, 'curri': 2, 'bp': 2, 'warranti': 2, 'tomorro': 2, 'fret': 2, 'strip': 2, 'cliff': 2, 'dhoni': 2, 'durban': 2, 'speedchat': 2, 'survey': 2, 'difficulti': 2, 'sar': 2, 'tank': 2, 'fil': 2, 'danger': 2, 'neighbor': 2, 'drm': 2, 'itcould': 2, 'toot': 2, 'annoy': 2, 'makin': 2, 'popcorn': 2, 'neft': 2, 'beneficiari': 2, 'creepi': 2, 'nok': 2, 'invest': 2, 'submit': 2, 'purs': 2, 'europ': 2, 'flip': 2, 'jd': 2, 'weirdest': 2, 'minmoremobsemspobox': 2, 'tee': 2, 'dough': 2, 'control': 2, 'stalk': 2, 'profil': 2, 'jerri': 2, 'drinkin': 2, 'deposit': 2, 'birthdat': 2, 'nydc': 2, 'ola': 2, 'garbag': 2, 'item': 2, 'videosound': 2, 'gold': 2, 'lionm': 2, 'lionp': 2, 'jokin': 2, 'potter': 2, 'phoenix': 2, 'reader': 2, 'canada': 2, 'goodnoon': 2, 'patti': 2, 'emerg': 2, 'georg': 2, 'there': 2, 'tmrw': 2, 'soul': 2, 'ned': 2, 'main': 2, 'sweeti': 2, 'buyer': 2, 'whn': 2, 'forgiv': 2, 'juan': 2, 'lf': 2, 'tlk': 2, 'ideal': 2, 'path': 2, 'front': 2, 'tirunelvali': 2, 'stretch': 2, 'sinco': 2, 'paye': 2, 'icicibank': 2, 'fraud': 2, 'disclos': 2, 'kaiez': 2, 'beneath': 2, 'pale': 2, 'silver': 2, 'silenc': 2, 'revis': 2, 'exet': 2, 'whose': 2, 'determin': 2, 'entir': 2, 'coat': 2, 'restaur': 2, 'function': 2, 'desper': 2, 'lyfu': 2, 'lyf': 2, 'ali': 2, 'ke': 2, 'meow': 2, 'ny': 2, 'msgrcvd': 2, 'luci': 2, 'musthu': 2, 'jsco': 2, 'convert': 2, 'nit': 2, 'sarcasm': 2, 'unfortun': 2, 'konw': 2, 'waht': 2, 'rael': 2, 'gving': 2, 'exmpel': 2, 'jsut': 2, 'evrey': 2, 'splle': 2, 'wrnog': 2, 'sitll': 2, 'ra': 2, 'wihtuot': 2, 'ayn': 2, 'mitsak': 2, 'ow': 2, 'degre': 2, 'financ': 2, 'jia': 2, 'sux': 2, 'kegger': 2, 'rhythm': 2, 'wifi': 2, 'rumour': 2, 'boyfriend': 2, 'driver': 2, 'dime': 2, 'smeon': 2, 'flame': 2, 'propos': 2, 'dippeditinadew': 2, 'lovingli': 2, 'itwhichturnedinto': 2, 'tomeandsaid': 2, 'pro': 2, 'batch': 2, 'flaki': 2, 'sooooo': 2, 'tooo': 2, 'wate': 2, 'british': 2, 'anim': 2, 'dracula': 2, 'ghost': 2, 'addamsfa': 2, 'munster': 2, 'exorcist': 2, 'twilight': 2, 'constant': 2, 'feelin': 2, 'hlp': 2, 'movietrivia': 2, 'partnership': 2, 'mostli': 2, 'poker': 2, 'messi': 2, 'traffic': 2, 'slip': 2, 'nu': 2, 'specialis': 2, 'gotten': 2, 'unknown': 2, 'vu': 2, 'pre': 2, 'entertain': 2, 'stick': 2, 'inde': 2, 'maangalyam': 2, 'alaipayuth': 2, 'complain': 2, 'easter': 2, 'callfreefon': 2, 'calm': 2, 'habit': 2, 'mandan': 2, 'ibh': 2, 'invad': 2, 'orig': 2, 'consol': 2, 'foley': 2, 'fake': 2, 'sian': 2, 'joanna': 2, 'telli': 2, 'tooth': 2, 'wipro': 2, 'tag': 2, 'laundri': 2, 'underwear': 2, 'wahe': 2, 'knee': 2, 'expos': 2, 'unhappi': 2, 'uh': 2, 'vday': 2, 'snowman': 2, 'ofic': 2, 'prescript': 2, 'electr': 2, 'fujitsu': 2, 'scold': 2, 'prompt': 2, 'woken': 2, 'aka': 2, 'delhi': 2, 'held': 2, 'length': 2, 'distract': 2, 'memori': 2, 'mel': 2, 'intent': 2, 'apolog': 2, 'cast': 2, 'aom': 2, 'parco': 2, 'nb': 2, 'hallaq': 2, 'lyk': 2, 'bck': 2, 'color': 2, 'gender': 2, 'sleepwel': 2, 'mca': 2, 'rub': 2, 'clever': 2, 'bray': 2, 'wicklow': 2, 'eir': 2, 'ryan': 2, 'idew': 2, 'xam': 2, 'shitload': 2, 'mcat': 2, 'sacrific': 2, 'creativ': 2, 'stayin': 2, 'cld': 2, 'tok': 2, 'specif': 2, 'cousin': 2, 'neck': 2, 'holi': 2, 'billion': 2, 'your': 2, 'beliv': 2, 'slot': 2, 'prem': 2, 'morro': 2, 'complaint': 2, 'lk': 2, 'lov': 2, 'bedrm': 2, 'huge': 2, 'upd': 2, 'anni': 2, 'mailbox': 2, 'retriev': 2, 'hrishi': 2, 'nothin': 2, 'poem': 2, 'duchess': 2, 'nahi': 2, 'zindgi': 2, 'wo': 2, 'dan': 2, 'aww': 2, 'stare': 2, 'unnecessarili': 2, 'restrict': 2, 'buddi': 2, 'gamestar': 2, 'propsd': 2, 'gv': 2, 'lv': 2, 'lttr': 2, 'threw': 2, 'aproach': 2, 'dt': 2, 'truck': 2, 'thi': 2, 'happili': 2, 'gthr': 2, 'evrydi': 2, 'paragon': 2, 'arent': 2, 'bluff': 2, 'sari': 2, 'wiskey': 2, 'brandi': 2, 'rum': 2, 'gin': 2, 'scotch': 2, 'shampain': 2, 'kudi': 2, 'yarasu': 2, 'dhina': 2, 'vaazhthukk': 2, 'kg': 2, 'dumb': 2, 'kay': 2, 'nasti': 2, 'slo': 2, 'christ': 2, 'rgd': 2, 'wrote': 2, 'swiss': 2, 'director': 2, 'crore': 2, 'lane': 2, 'politician': 2, 'donno': 2, 'properli': 2, 'rr': 2, 'furnitur': 2, 'strang': 2, 'acl': 2, 'indyarock': 2, 'whr': 2, 'yunni': 2, 'mmmmm': 2, 'rel': 2, 'risk': 2, 'benefit': 2, 'belong': 2, 'environ': 2, 'terrif': 2, 'dr': 2, 'superior': 2, 'ultim': 2, 'dock': 2, 'picsfre': 2, 'vid': 2, 'elabor': 2, 'depart': 2, 'conform': 2, 'bc': 2, 'toshiba': 2, 'innoc': 2, 'mental': 2, 'marrow': 2, 'hon': 2, 'fab': 2, 'tiwari': 2, 'bang': 2, 'pap': 2, 'pandi': 2, 'edu': 2, 'secretari': 2, 'shake': 2, 'amongst': 2, 'nalla': 2, 'northampton': 2, 'abj': 2, 'smith': 2, 'anna': 2, 'nagar': 2, 'theme': 2, 'evr': 2, 'neither': 2, 'snog': 2, 'west': 2, 'fastest': 2, 'steam': 2, 'reg': 2, 'canari': 2, 'sleepi': 2, 'mag': 2, 'diwali': 2, 'onion': 2, 'abus': 2, 'thgt': 2, 'lower': 2, 'footi': 2, 'pee': 2, 'divis': 2, 'creep': 2, 'properti': 2, 'interflora': 2, 'cough': 2, 'bbd': 2, 'pimpl': 2, 'yellow': 2, 'frog': 2, 'doubt': 2, 'japanes': 2, 'proverb': 2, 'freedom': 2, 'twenti': 2, 'paint': 2, 'groovi': 2, 'nowaday': 2, 'swatch': 2, 'ganesh': 2, 'helloooo': 2, 'geva': 2, 'human': 2, 'wuld': 2, 'ing': 2, 'sake': 2, 'bruce': 2, 'chest': 2, 'brief': 2, 'pt': 2, 'hm': 2, 'salon': 2, 'independ': 2, 'raj': 2, 'shore': 2, 'topic': 2, 'admin': 2, 'visionsm': 2, 'andro': 2, 'foot': 2, 'peni': 2, 'fal': 2, 'vth': 2, 'eveb': 2, 'sack': 2, 'lookatm': 2, 'agalla': 2, 'xxxxx': 2, 'otsid': 2, 'wrench': 2, 'tight': 2, 'av': 2, 'everyday': 2, 'curiou': 2, 'postcard': 2, 'bread': 2, 'mahal': 2, 'ding': 2, 'necessari': 2, 'aris': 2, 'disast': 2, 'deu': 2, 'tap': 2, 'spile': 2, 'broad': 2, 'canal': 2, 'engin': 2, 'edg': 2, 'east': 2, 'howard': 2, 'starv': 2, 'owe': 2, 'babysit': 2, 'ee': 2, 'easili': 2, 'selfish': 2, 'sac': 2, 'jiayin': 2, 'tg': 2, 'forgotten': 2, 'revers': 2, 'mathemat': 2, 'waxsto': 2, 'minimum': 2, 'doll': 2, 'elain': 2, 'drunken': 2, 'crisi': 2, 'ia': 2, 'mb': 2, 'carli': 2, 'desir': 2, 'priscilla': 2, 'kent': 2, 'vale': 2, 'westlif': 2, 'unbreak': 2, 'untam': 2, 'unkempt': 2, 'granit': 2, 'explos': 2, 'nasdaq': 2, 'cdgt': 2, 'placement': 2, 'sumthin': 2, 'devour': 2, 'airtel': 2, 'jaya': 2, 'shahjahan': 2, 'incred': 2, 'fwd': 2, 'kavalan': 2, 'outag': 2, 'xin': 2, 'lib': 2, 'despit': 2, 'swoop': 2, 'langport': 2, 'promot': 2, 'vega': 2, 'lou': 2, 'vewi': 2, 'rip': 2, 'pool': 2, 'terrorist': 2, 'confirmd': 2, 'cnn': 2, 'ibn': 2, 'hppnss': 2, 'goodfriend': 2, 'mila': 2, 'blond': 2, 'mtalk': 2, 'pp': 2, 'increment': 2, 'atlast': 2, 'desert': 2, 'funk': 2, 'section': 2, 'funer': 2, 'vivek': 2, 'brah': 2, 'protect': 2, 'sib': 2, 'sensit': 2, 'blu': 2, 'amma': 2, 'chees': 2, 'widel': 2, 'index': 2, 'wml': 2, 'hsbc': 2, 'asp': 2, 'melt': 2, 'eek': 2, 'secur': 2, 'heater': 2, 'eta': 2, 'housew': 2, 'dial': 2, 'liter': 2, 'kothi': 2, 'prof': 2, 'sem': 2, 'sathya': 2, 'tip': 2, 'elect': 2, 'kappa': 2, 'approv': 2, 'royal': 2, 'sticki': 2, 'edward': 2, 'indic': 2, 'blur': 2, 'lush': 2, 'greatest': 2, 'defeat': 2, 'natalja': 2, 'sunlight': 2, 'shelf': 2, 'mokka': 2, 'polyh': 2, 'bone': 2, 'steve': 2, 'epsilon': 2, 'mesag': 2, 'lst': 2, 'massiv': 2, 'absolutli': 2, 'polo': 2, 'academ': 2, 'coast': 2, 'explicit': 2, 'clearli': 2, 'txtstop': 2, 'capit': 2, 'loyal': 2, 'dokey': 2, 'sleepin': 2, 'minor': 2, 'cashbin': 2, 'woulda': 2, 'miser': 2, 'shoppin': 2, 'nuther': 2, 'infect': 2, 'kiosk': 2, 'inconveni': 2, 'henri': 2, 'unintent': 2, 'mountain': 2, 'woot': 2, 'donat': 2, 'cme': 2, 'goldvik': 2, 'sarasota': 2, 'cherish': 2, 'natali': 2, 'slp': 2, 'muah': 2, 'andr': 2, 'eva': 2, 'reassur': 2, 'bulb': 2, 'seed': 2, 'scotsman': 2, 'notxt': 2, 'gastroenter': 2, 'reduc': 2, 'favorit': 2, 'pride': 2, 'amus': 2, 'shu': 2, 'spider': 2, 'jurong': 1, 'amor': 1, 'patent': 1, 'breather': 1, 'grant': 1, 'fulfil': 1, 'qjkgighjjgcbl': 1, 'gota': 1, 'macedonia': 1, 'poboxox': 1, 'ffffffffff': 1, 'ahhh': 1, 'apologet': 1, 'fallen': 1, 'actin': 1, 'spoilt': 1, 'badli': 1, 'faint': 1, 'housework': 1, 'cuppa': 1, 'watt': 1, 'arabian': 1, 'steed': 1, 'rodger': 1, 'endow': 1, 'hep': 1, 'immunis': 1, 'stubborn': 1, 'smarter': 1, 'cave': 1, 'jersey': 1, 'devil': 1, 'wing': 1, 'incorrect': 1, 'mallika': 1, 'sherawat': 1, 'gauti': 1, 'sehwag': 1, 'seeker': 1, 'barbi': 1, 'ken': 1, 'multi': 1, 'factori': 1, 'casualti': 1, 'hairdress': 1, 'beforehand': 1, 'am': 1, 'signin': 1, 'memor': 1, 'minecraft': 1, 'server': 1, 'grumpi': 1, 'plural': 1, 'openin': 1, 'ratio': 1, 'wr': 1, 'pair': 1, 'malarki': 1, 'sao': 1, 'impos': 1, 'lucyxx': 1, 'tmorrow': 1, 'gravel': 1, 'hotmail': 1, 'svc': 1, 'nver': 1, 'ummma': 1, 'sindu': 1, 'typic': 1, 'dirt': 1, 'chore': 1, 'exist': 1, 'hail': 1, 'mist': 1, 'aaooooright': 1, 'annonc': 1, 'envi': 1, 'bangbab': 1, 'bangb': 1, 'cultur': 1, 'missunderstd': 1, 'bridg': 1, 'lager': 1, 'axi': 1, 'surnam': 1, 'clue': 1, 'areyouuniqu': 1, 'leagu': 1, 'or': 1, 'stool': 1, 'babyjontet': 1, 'enc': 1, 'alter': 1, 'dogg': 1, 'ubandu': 1, 'disk': 1, 'sceneri': 1, 'flyng': 1, 'ari': 1, 'elama': 1, 'mudyadhu': 1, 'strict': 1, 'gandhipuram': 1, 'rubber': 1, 'thirtyeight': 1, 'pleassssssseeeee': 1, 'sportsx': 1, 'baig': 1, 'usp': 1, 'bribe': 1, 'nipost': 1, 'luton': 1, 'sometm': 1, 'mk': 1, 'evo': 1, 'narcot': 1, 'object': 1, 'mack': 1, 'theater': 1, 'ahold': 1, 'cruisin': 1, 'varunnathu': 1, 'edukkukaye': 1, 'raksha': 1, 'ollu': 1, 'resend': 1, 'thfeb': 1, 'gurl': 1, 'appropri': 1, 'diesel': 1, 'fridg': 1, 'womdarful': 1, 'rodd': 1, 'aberdeen': 1, 'kingdom': 1, 'img': 1, 'icmb': 1, 'cktz': 1, 'remb': 1, 'bookshelf': 1, 'winnersclub': 1, 'mylif': 1, 'guild': 1, 'evapor': 1, 'employ': 1, 'daaaaa': 1, 'huim': 1, 'prestig': 1, 'sextextuk': 1, 'xxuk': 1, 'jeremiah': 1, 'iphon': 1, 'apeshit': 1, 'onam': 1, 'sirji': 1, 'tata': 1, 'aig': 1, 'andrew': 1, 'db': 1, 'dawn': 1, 'refresh': 1, 'z': 1, 'rp': 1, 'regalportfolio': 1, 'uniform': 1, 'lindsay': 1, 'heron': 1, 'payasam': 1, 'rinu': 1, 'taught': 1, 'becau': 1, 'prabu': 1, 'followin': 1, 'wallet': 1, 'owl': 1, 'kickbox': 1, 'lap': 1, 'wahleykkum': 1, 'stoner': 1, 'disastr': 1, 'busetop': 1, 'wendi': 1, 'sentiment': 1, 'rowdi': 1, 'attitud': 1, 'urin': 1, 'hillsborough': 1, 'shoul': 1, 'hasnt': 1, 'wereth': 1, 'monkeespeopl': 1, 'monkeyaround': 1, 'howdi': 1, 'blimey': 1, 'exercis': 1, 'hank': 1, 'lotsli': 1, 'optimist': 1, 'consist': 1, 'practicum': 1, 'waver': 1, 'heal': 1, 'upgrdcentr': 1, 'oral': 1, 'slipperi': 1, 'bike': 1, 'okmail': 1, 'machi': 1, 'mcr': 1, 'jaykwon': 1, 'thuglyf': 1, 'falconerf': 1, 'fade': 1, 'glori': 1, 'ralph': 1, 'reunion': 1, 'accentur': 1, 'jackson': 1, 'nuerologist': 1, 'lolnic': 1, 'westshor': 1, 'ammo': 1, 'ak': 1, 'boltblu': 1, 'jamz': 1, 'toxic': 1, 'bubbletext': 1, 'tgxxrz': 1, 'problemat': 1, 'abnorm': 1, 'reciev': 1, 'teletext': 1, 'faggot': 1, 'bani': 1, 'button': 1, 'applausestor': 1, 'monthlysubscript': 1, 'csc': 1, 'famou': 1, 'uncondit': 1, 'temper': 1, 'oclock': 1, 'bash': 1, 'coop': 1, 'weddin': 1, 'alibi': 1, 'sink': 1, 'pace': 1, 'cage': 1, 'surround': 1, 'cuck': 1, 'defici': 1, 'acknowledg': 1, 'astoundingli': 1, 'tactless': 1, 'oath': 1, 'silli': 1, 'uv': 1, 'mutat': 1, 'sunscreen': 1, 'theseday': 1, 'bao': 1, 'sugardad': 1, 'ninish': 1, 'icki': 1, 'freek': 1, 'ridden': 1, 'missi': 1, 'goggl': 1, 'arngd': 1, 'walkin': 1, 'unfortuntli': 1, 'frnt': 1, 'sayin': 1, 'textand': 1, 'jjc': 1, 'tendenc': 1, 'meiv': 1, 'gotani': 1, 'srsli': 1, 'yi': 1, 'prix': 1, 'nitz': 1, 'blastin': 1, 'rajnik': 1, 'ocean': 1, 'xclusiv': 1, 'clubsaisai': 1, 'zouk': 1, 'bridgwat': 1, 'banter': 1, 'cer': 1, 'dismay': 1, 'tootsi': 1, 'seventeen': 1, 'brighten': 1, 'allo': 1, 'brave': 1, 'triumph': 1, 'uncomfort': 1, 'sonetim': 1, 'rough': 1, 'cloud': 1, 'wikipedia': 1, 'repent': 1, 'kama': 1, 'sutra': 1, 'nang': 1, 'bakra': 1, 'kalstiya': 1, 'lakh': 1, 'ditto': 1, 'wetherspoon': 1, 'piggi': 1, 'freaki': 1, 'scrappi': 1, 'sdryb': 1, 'lapdanc': 1, 'ppmsg': 1, 'imprtant': 1, 'tomorw': 1, 'cherthala': 1, 'bfore': 1, 'tmorow': 1, 'entrepreneur': 1, 'corpor': 1, 'prevent': 1, 'fluid': 1, 'trek': 1, 'gage': 1, 'cnupdat': 1, 'newslett': 1, 'shitstorm': 1, 'attribut': 1, 'sth': 1, 'spec': 1, 'macha': 1, 'mindset': 1, 'wondar': 1, 'flim': 1, 'jelli': 1, 'scrumptiou': 1, 'dao': 1, 'jide': 1, 'alertfrom': 1, 'jeri': 1, 'stewarts': 1, 'kbsubject': 1, 'prescripiton': 1, 'drvgsto': 1, 'steak': 1, 'neglect': 1, 'prayer': 1, 'wahay': 1, 'gaze': 1, 'tattoo': 1, 'caveboy': 1, 'hungov': 1, 'unclaim': 1, 'closingd': 1, 'claimcod': 1, 'pmmorefrommobil': 1, 'bremov': 1, 'mobypobox': 1, 'gua': 1, 'faber': 1, 'dramat': 1, 'drunkard': 1, 'idc': 1, 'trash': 1, 'beerag': 1, 'randomlli': 1, 'toppoli': 1, 'tune': 1, 'fondli': 1, 'dogbreath': 1, 'woohoo': 1, 'uncount': 1, 'thmarch': 1, 'availa': 1, 'wherear': 1, 'friendsar': 1, 'thekingshead': 1, 'canlov': 1, 'jx': 1, 'dled': 1, 'smokin': 1, 'boooo': 1, 'yowif': 1, 'outbid': 1, 'simonwatson': 1, 'shinco': 1, 'plyr': 1, 'smsreward': 1, 'notif': 1, 'youi': 1, 'enjoyin': 1, 'yourjob': 1, 'llspeak': 1, 'soonlot': 1, 'starshin': 1, 'smsservic': 1, 'yourinclus': 1, 'burial': 1, 'rv': 1, 'rvx': 1, 'comprehens': 1, 'prashanthettan': 1, 'samantha': 1, 'guitar': 1, 'doug': 1, 'trauma': 1, 'swear': 1, 'inner': 1, 'tigress': 1, 'urfeel': 1, 'bettersn': 1, 'probthat': 1, 'overdos': 1, 'lovejen': 1, 'ana': 1, 'sathi': 1, 'rto': 1, 'corvett': 1, 'bunker': 1, 'posh': 1, 'chap': 1, 'trial': 1, 'prod': 1, 'champney': 1, 'dob': 1, 'philosoph': 1, 'hole': 1, 'atleast': 1, 'shakespear': 1, 'doit': 1, 'mymobi': 1, 'woul': 1, 'curfew': 1, 'gibe': 1, 'getsleep': 1, 'studdi': 1, 'yoyyooo': 1, 'mike': 1, 'hussey': 1, 'faglord': 1, 'nutter': 1, 'cutter': 1, 'ctter': 1, 'cttergg': 1, 'cttargg': 1, 'ctargg': 1, 'ctagg': 1, 'ie': 1, 'thu': 1, 'grate': 1, 'happier': 1, 'invoic': 1, 'tobacco': 1, 'lastest': 1, 'stereophon': 1, 'marley': 1, 'dizze': 1, 'racal': 1, 'libertin': 1, 'stroke': 1, 'nookii': 1, 'bookmark': 1, 'grinul': 1, 'fudg': 1, 'zaher': 1, 'nauseou': 1, 'avalarr': 1, 'hollalat': 1, 'magicalsong': 1, 'blogspot': 1, 'kvb': 1, 'ppt': 1, 'jy': 1, 'altern': 1, 'ore': 1, 'owo': 1, 'fro': 1, 'samu': 1, 'shoulder': 1, 'matthew': 1, 'vomitin': 1, 'writh': 1, 'paypal': 1, 'voila': 1, 'pocket': 1, 'theyr': 1, 'folk': 1, 'sorta': 1, 'blown': 1, 'sopha': 1, 'secondari': 1, 'ogunrind': 1, 'chk': 1, 'dict': 1, 'shb': 1, 'retir': 1, 'natwest': 1, 'chad': 1, 'gymnast': 1, 'christian': 1, 'token': 1, 'aptitud': 1, 'hors': 1, 'wrongli': 1, 'boggi': 1, 'biatch': 1, 'notebook': 1, 'eightish': 1, 'carpark': 1, 'iren': 1, 'ere': 1, 'cre': 1, 'sd': 1, 'stripe': 1, 'skirt': 1, 'escal': 1, 'beth': 1, 'charli': 1, 'syllabu': 1, 'panason': 1, 'bluetoothhdset': 1, 'doublemin': 1, 'doubletxt': 1, 'poyyarikatur': 1, 'kolathupalayam': 1, 'unjalur': 1, 'erod': 1, 'apt': 1, 'meat': 1, 'suprem': 1, 'cudnt': 1, 'ctla': 1, 'ent': 1, 'ishtamayoo': 1, 'bakrid': 1, 'gloriou': 1, 'coax': 1, 'fond': 1, 'souveni': 1, 'cougar': 1, 'shitin': 1, 'defo': 1, 'hardest': 1, 'lekdog': 1, 'atten': 1, 'data': 1, 'analysi': 1, 'belliger': 1, 'rudi': 1, 'snore': 1, 'ink': 1, 'finalis': 1, 'flirtparti': 1, 'lul': 1, 'nurs': 1, 'she': 1, 'obes': 1, 'oyea': 1, 'parchi': 1, 'kicchu': 1, 'kaaj': 1, 'kort': 1, 'iccha': 1, 'korch': 1, 'tul': 1, 'sculptur': 1, 'surya': 1, 'pokkiri': 1, 'proov': 1, 'prais': 1, 'maki': 1, 'sambar': 1, 'ndship': 1, 'needl': 1, 'conect': 1, 'spatula': 1, 'complex': 1, 'freeli': 1, 'tax': 1, 'outrag': 1, 'ryder': 1, 'elvi': 1, 'presley': 1, 'postal': 1, 'wrking': 1, 'sittin': 1, 'hen': 1, 'teju': 1, 'hourish': 1, 'amla': 1, 'conveni': 1, 'evalu': 1, 'swap': 1, 'chatter': 1, 'rcd': 1, 'cheyyamo': 1, 'tau': 1, 'piah': 1, 'stchoic': 1, 'shade': 1, 'notifi': 1, 'sexual': 1, 'sitter': 1, 'kaitlyn': 1, 'peep': 1, 'comment': 1, 'veggi': 1, 'computerless': 1, 'balloon': 1, 'melodi': 1, 'hme': 1, 'velacheri': 1, 'flippin': 1, 'cstore': 1, 'hangin': 1, 'quizz': 1, 'thin': 1, 'fed': 1, 'himso': 1, 'semi': 1, 'exp': 1, 'apr': 1, 'maaaan': 1, 'guessin': 1, 'ilol': 1, 'wuldnt': 1, 'lunchtim': 1, 'organis': 1, 'passabl': 1, 'phd': 1, 'prakesh': 1, 'betta': 1, 'product': 1, 'accommod': 1, 'global': 1, 'phb': 1, 'snatch': 1, 'drivbi': 1, 'edrunk': 1, 'iff': 1, 'pthi': 1, 'senrd': 1, 'dnot': 1, 'dancc': 1, 'drum': 1, 'basq': 1, 'ihav': 1, 'nhite': 1, 'ro': 1, 'reliev': 1, 'westonzoyland': 1, 'mc': 1, 'ava': 1, 'goodtim': 1, 'oli': 1, 'melnit': 1, 'ifink': 1, 'everythin': 1, 'shun': 1, 'bian': 1, 'glass': 1, 'exhibit': 1, 'el': 1, 'nino': 1, 'downstem': 1, 'wahala': 1, 'inperialmus': 1, 'leafcutt': 1, 'insect': 1, 'molest': 1, 'plumb': 1, 'remix': 1, 'evil': 1, 'acid': 1, 'didntgiv': 1, 'bellearli': 1, 'cheeri': 1, 'weirdo': 1, 'pax': 1, 'jap': 1, 'disappear': 1, 'certif': 1, 'publish': 1, 'wheellock': 1, 'destin': 1, 'fifti': 1, 'happenin': 1, 'cocksuck': 1, 'worthless': 1, 'novelti': 1, 'janx': 1, 'design': 1, 'musicnew': 1, 'spirit': 1, 'shatter': 1, 'girli': 1, 'darker': 1, 'gray': 1, 'listn': 1, 'watevr': 1, 'minu': 1, 'paragraph': 1, 'coveragd': 1, 'vasai': 1, 'retard': 1, 'bathroom': 1, 'sang': 1, 'uptown': 1, 'icic': 1, 'syria': 1, 'gaug': 1, 'ax': 1, 'surgic': 1, 'unfold': 1, 'korean': 1, 'fredericksburg': 1, 'pase': 1, 'buen': 1, 'tiempo': 1, 'compass': 1, 'gnun': 1, 'baaaaab': 1, 'misss': 1, 'youuuuu': 1, 'witot': 1, 'becz': 1, 'undrstndng': 1, 'steamboat': 1, 'tp': 1, 'bbq': 1, 'everyso': 1, 'panick': 1, 'nick': 1, 'huai': 1, 'appear': 1, 'thirunelvali': 1, 'tackl': 1, 'tonght': 1, 'plough': 1, 'pile': 1, 'chinki': 1, 'wi': 1, 'nz': 1, 'aust': 1, 'bk': 1, 'papa': 1, 'loser': 1, 'beta': 1, 'noncomitt': 1, 'snicker': 1, 'chord': 1, 'boyf': 1, 'interviw': 1, 'spreadsheet': 1, 'dartboard': 1, 'trebl': 1, 'intrepid': 1, 'duo': 1, 'breez': 1, 'fresh': 1, 'twitter': 1, 'duck': 1, 'chinchilla': 1, 'headstart': 1, 'rummer': 1, 'optin': 1, 'bbc': 1, 'rajini': 1, 'spi': 1, 'yalru': 1, 'astn': 1, 'innu': 1, 'mundh': 1, 'halla': 1, 'bilo': 1, 'edha': 1, 'ovr': 1, 'vargu': 1, 'prone': 1, 'llc': 1, 'usa': 1, 'cumin': 1, 'dose': 1, 'incomm': 1, 'browsin': 1, 'compulsori': 1, 'investig': 1, 'vitamin': 1, 'crucial': 1, 'leadership': 1, 'skill': 1, 'psychic': 1, 'host': 1, 'idp': 1, 'linux': 1, 'sayi': 1, 'leann': 1, 'disc': 1, 'champ': 1, 'glasgow': 1, 'lovin': 1, 'brows': 1, 'artist': 1, 'corect': 1, 'spele': 1, 'ct': 1, 'employe': 1, 'nike': 1, 'sooo': 1, 'dang': 1, 'earliest': 1, 'nordstrom': 1, 'confer': 1, 'bleak': 1, 'shant': 1, 'nearer': 1, 'raiden': 1, 'tote': 1, 'pierr': 1, 'cardin': 1, 'establish': 1, 'truro': 1, 'ext': 1, 'sunroof': 1, 'kalainar': 1, 'thenampet': 1, 'nosi': 1, 'react': 1, 'satan': 1, 'impost': 1, 'destini': 1, 'companion': 1, 'chef': 1, 'organ': 1, 'sympathet': 1, 'athlet': 1, 'psychologist': 1, 'pest': 1, 'extermin': 1, 'psychiatrist': 1, 'healer': 1, 'stylist': 1, 'aaniy': 1, 'pudunga': 1, 'venaam': 1, 'chez': 1, 'jule': 1, 'hhahhaahahah': 1, 'nig': 1, 'leonardo': 1, 'strain': 1, 'withdraw': 1, 'anyhow': 1, 'miller': 1, 'spark': 1, 'rawr': 1, 'xoxo': 1, 'somewhr': 1, 'crush': 1, 'honeymoon': 1, 'outfit': 1, 'chequ': 1, 'olymp': 1, 'leo': 1, 'haul': 1, 'wildlif': 1, 'worzel': 1, 'wizzl': 1, 'shanghai': 1, 'cya': 1, 'rt': 1, 'thnx': 1, 'sef': 1, 'anji': 1, 'nte': 1, 'shini': 1, 'french': 1, 'supplier': 1, 'lnli': 1, 'keen': 1, 'dammit': 1, 'wright': 1, 'somewhat': 1, 'laden': 1, 'wreck': 1, 'spontan': 1, 'goodeven': 1, 'rgent': 1, 'daytim': 1, 'busti': 1, 'janinexx': 1, 'spageddi': 1, 'phase': 1, 'fourth': 1, 'dimens': 1, 'meaning': 1, 'compromis': 1, 'mobsi': 1, 'dub': 1, 'je': 1, 'toughest': 1, 'squat': 1, 'sonathaya': 1, 'soladha': 1, 'rape': 1, 'weightloss': 1, 'mushi': 1, 'embarrass': 1, 'stash': 1, 'priya': 1, 'kilo': 1, 'tookplac': 1, 'ghodbandar': 1, 'slove': 1, 'sc': 1, 'wad': 1, 'stereo': 1, 'classmat': 1, 'trackmarqu': 1, 'vipclub': 1, 'missionari': 1, 'hugh': 1, 'lauri': 1, 'prap': 1, 'jon': 1, 'spain': 1, 'dinero': 1, 'pe': 1, 'mandi': 1, 'sullivan': 1, 'hotmix': 1, 'fm': 1, 'finn': 1, 'downon': 1, 'theacus': 1, 'itxt': 1, 'iwana': 1, 'wotu': 1, 'thew': 1, 'haventcn': 1, 'neth': 1, 'conact': 1, 'inspect': 1, 'nurseri': 1, 'panren': 1, 'paru': 1, 'chuckin': 1, 'trainner': 1, 'carryin': 1, 'bac': 1, 'dhanush': 1, 'habba': 1, 'dileep': 1, 'muchand': 1, 'venugop': 1, 'everytim': 1, 'textbook': 1, 'algorithm': 1, 'edit': 1, 'cro': 1, 'intend': 1, 'iwa': 1, 'marin': 1, 'itri': 1, 'urmom': 1, 'careabout': 1, 'iraq': 1, 'afghanistan': 1, 'stabl': 1, 'honest': 1, 'pai': 1, 'seh': 1, 'walsal': 1, 'terri': 1, 'ccna': 1, 'shrek': 1, 'fellow': 1, 'teresa': 1, 'dec': 1, 'ld': 1, 'bam': 1, 'usml': 1, 'squishi': 1, 'mwah': 1, 'hottest': 1, 'promin': 1, 'cheek': 1, 'septemb': 1, 'hack': 1, 'backdoor': 1, 'fraction': 1, 'neo': 1, 'dp': 1, 'comingdown': 1, 'murali': 1, 'engalnd': 1, 'mia': 1, 'elliot': 1, 'wv': 1, 'matric': 1, 'fedex': 1, 'recept': 1, 'consensu': 1, 'bra': 1, 'strewn': 1, 'pillow': 1, 'wick': 1, 'srt': 1, 'jontin': 1, 'ban': 1, 'biro': 1, 'shell': 1, 'lark': 1, 'extrem': 1, 'sic': 1, 'wild': 1, 'lim': 1, 'parachut': 1, 'lambda': 1, 'angel': 1, 'snowbal': 1, 'ello': 1, 'duffer': 1, 'grr': 1, 'pharmaci': 1, 'rpl': 1, 'cnl': 1, 'fffff': 1, 'lifebook': 1, 'zhong': 1, 'qing': 1, 'hypertens': 1, 'annoyin': 1, 'vpod': 1, 'nigro': 1, 'anyplac': 1, 'prioriti': 1, 'ecstasi': 1, 'minapn': 1, 'hittng': 1, 'reflex': 1, 'adewal': 1, 'egbon': 1, 'mari': 1, 'deduct': 1, 'asshol': 1, 'grab': 1, 'payback': 1, 'tesco': 1, 'featheri': 1, 'bowa': 1, 'infra': 1, 'gep': 1, 'fifa': 1, 'shhhhh': 1, 'arul': 1, 'amk': 1, 'antha': 1, 'corrct': 1, 'dane': 1, 'basket': 1, 'rupaul': 1, 'practis': 1, 'curtsey': 1, 'african': 1, 'soil': 1, 'outreach': 1, 'lb': 1, 'brilliantli': 1, 'bend': 1, 'thia': 1, 'inlud': 1, 'preview': 1, 'ambrith': 1, 'madurai': 1, 'dha': 1, 'marrg': 1, 'kitti': 1, 'shave': 1, 'tact': 1, 'pert': 1, 'cram': 1, 'satsgettin': 1, 'pei': 1, 'subtoitl': 1, 'jot': 1, 'cereal': 1, 'thkin': 1, 'resub': 1, 'shadow': 1, 'breadstick': 1, 'saeed': 1, 'purpl': 1, 'yelow': 1, 'brown': 1, 'eldest': 1, 'drugdeal': 1, 'wither': 1, 'wondarful': 1, 'txtx': 1, 'onbu': 1, 'donyt': 1, 'latelyxxx': 1, 'soooo': 1, 'tming': 1, 'cutest': 1, 'dice': 1, 'howda': 1, 'samachara': 1, 'audri': 1, 'autocorrect': 1, 'simul': 1, 'lara': 1, 'washob': 1, 'nob': 1, 'nickey': 1, 'platt': 1, 'spotti': 1, 'provinc': 1, 'sterl': 1, 'hall': 1, 'intha': 1, 'ponnungal': 1, 'ipaditan': 1, 'reject': 1, 'noisi': 1, 'needa': 1, 'manual': 1, 'reset': 1, 'troubleshoot': 1, 'marsm': 1, 'utel': 1, 'strongli': 1, 'stifl': 1, 'getha': 1, 'buffi': 1, 'qlynnbv': 1, 'nosh': 1, 'waaaat': 1, 'lololo': 1, 'document': 1, 'stapati': 1, 'cuti': 1, 'honesti': 1, 'labor': 1, 'shakara': 1, 'beggar': 1, 'dent': 1, 'crickit': 1, 'imin': 1, 'dontmatt': 1, 'urgoin': 1, 'outl': 1, 'yavnt': 1, 'ibuprofen': 1, 'grown': 1, 'chinatown': 1, 'porridg': 1, 'claypot': 1, 'yam': 1, 'fishhead': 1, 'beehoon': 1, 'jaklin': 1, 'nearbi': 1, 'bundl': 1, 'avbl': 1, 'mf': 1, 'ooh': 1, 'moseley': 1, 'thankyou': 1, 'aluabl': 1, 'ffection': 1, 'oveabl': 1, 'ternal': 1, 'obl': 1, 'ruth': 1, 'ntimat': 1, 'atur': 1, 'namou': 1, 'textin': 1, 'amigo': 1, 'progress': 1, 'arti': 1, 'collag': 1, 'tryin': 1, 'walik': 1, 'carton': 1, 'shelv': 1, 'mirror': 1, 'jod': 1, 'keri': 1, 'smidgin': 1, 'accordin': 1, 'como': 1, 'plaid': 1, 'hilari': 1, 'braindanc': 1, 'ofstuff': 1, 'aphex': 1, 'abel': 1, 'nelson': 1, 'unmit': 1, 'newspap': 1, 'yummmm': 1, 'puzzel': 1, 'goten': 1, 'scammer': 1, 'dena': 1, 'shifad': 1, 'splashmobil': 1, 'subscrit': 1, 'dust': 1, 'watchin': 1, 'meaningless': 1, 'brdget': 1, 'jone': 1, 'inev': 1, 'hype': 1, 'studio': 1, 'velli': 1, 'stoptx': 1, 'va': 1, 'hanger': 1, 'arrow': 1, 'tddnewslett': 1, 'emc': 1, 'thedailydraw': 1, 'dozen': 1, 'prizeswith': 1, 'waqt': 1, 'pehl': 1, 'naseeb': 1, 'zyada': 1, 'kisi': 1, 'ko': 1, 'kuch': 1, 'milta': 1, 'hum': 1, 'socht': 1, 'jeetey': 1, 'varaya': 1, 'elaya': 1, 'anand': 1, 'beach': 1, 'jez': 1, 'todo': 1, 'workand': 1, 'whilltak': 1, 'zogtoriu': 1, 'financi': 1, 'alian': 1, 'posibl': 1, 'centuri': 1, 'frwd': 1, 'affection': 1, 'clarif': 1, 'coimbator': 1, 'monoc': 1, 'polyc': 1, 'stream': 1, 'categori': 1, 'ethnic': 1, 'censu': 1, 'transcrib': 1, 'goodmat': 1, 'asusu': 1, 'franyxxxxx': 1, 'batt': 1, 'becausethey': 1, 'pressur': 1, 'doke': 1, 'neshanth': 1, 'byatch': 1, 'whassup': 1, 'cl': 1, 'filthyguy': 1, 'chiong': 1, 'dialogu': 1, 'reltnship': 1, 'pose': 1, 'comb': 1, 'dryer': 1, 'fp': 1, 'dlf': 1, 'premarica': 1, 'gotto': 1, 'err': 1, 'hitter': 1, 'offlin': 1, 'anjola': 1, 'asjesu': 1, 'taxless': 1, 'supli': 1, 'imf': 1, 'corrupt': 1, 'itna': 1, 'karo': 1, 'ki': 1, 'pura': 1, 'padh': 1, 'torrent': 1, 'particularli': 1, 'commit': 1, 'trivia': 1, 'rightio': 1, 'brum': 1, 'scorabl': 1, 'paranoid': 1, 'brin': 1, 'bettr': 1, 'bsnl': 1, 'offc': 1, 'suganya': 1, 'dessert': 1, 'abeg': 1, 'sponsor': 1, 'onum': 1, 'poet': 1, 'famamu': 1, 'jenn': 1, 'easiest': 1, 'barcelona': 1, 'sppok': 1, 'complementari': 1, 'pansi': 1, 'jungl': 1, 'kanji': 1, 'sr': 1, 'drizzl': 1, 'drama': 1, 'struggl': 1, 'ego': 1, 'necess': 1, 'reppurcuss': 1, 'cosign': 1, 'hvae': 1, 'hcl': 1, 'fresher': 1, 'suman': 1, 'reliant': 1, 'fwiw': 1, 'afford': 1, 'sq': 1, 'citylink': 1, 'prop': 1, 'pleasant': 1, 'bognor': 1, 'splendid': 1, 'ktv': 1, 'misplac': 1, 'begun': 1, 'registr': 1, 'perman': 1, 'resid': 1, 'accumul': 1, 'fate': 1, 'shoranur': 1, 'fuell': 1, 'prior': 1, 'grief': 1, 'honestli': 1, 'promptli': 1, 'burnt': 1, 'snap': 1, 'quizclub': 1, 'rwm': 1, 'gmw': 1, 'someplac': 1, 'pressi': 1, 'tor': 1, 'tui': 1, 'achiev': 1, 'korli': 1, 'roll': 1, 'newscast': 1, 'dabbl': 1, 'flute': 1, 'wheel': 1, 'keyword': 1, 'octob': 1, 'safeti': 1, 'aspect': 1, 'tarot': 1, 'horniest': 1, 'ovarian': 1, 'cyst': 1, 'shrink': 1, 'timin': 1, 'ape': 1, 'ibm': 1, 'gosh': 1, 'spose': 1, 'rimac': 1, 'arestaur': 1, 'squid': 1, 'dosometh': 1, 'dabook': 1, 'eachoth': 1, 'luckili': 1, 'tkl': 1, 'stoptxtstop': 1, 'smoothli': 1, 'breakfast': 1, 'hamper': 1, 'unni': 1, 'lack': 1, 'particular': 1, 'dramastorm': 1, 'forfeit': 1, 'digi': 1, 'coupla': 1, 'sundayish': 1, 'prasad': 1, 'rcb': 1, 'battl': 1, 'kochi': 1, 'checkup': 1, 'smear': 1, 'gobi': 1, 'technolog': 1, 'olowoyey': 1, 'argentina': 1, 'taxt': 1, 'tie': 1, 'lool': 1, 'scarcasim': 1, 'naal': 1, 'eruku': 1, 'sensibl': 1, 'obedi': 1, 'ft': 1, 'needi': 1, 'playng': 1, 'mcfli': 1, 'ab': 1, 'sara': 1, 'jorg': 1, 'yupz': 1, 'ericson': 1, 'der': 1, 'luk': 1, 'modl': 1, 'cheesi': 1, 'frosti': 1, 'witin': 1, 'nnfwfli': 1, 'nudist': 1, 'pump': 1, 'signal': 1, 'unusu': 1, 'palm': 1, 'state': 1, 'perpetu': 1, 'dd': 1, 'pract': 1, 'flung': 1, 'justbeen': 1, 'overa': 1, 'mush': 1, 'tund': 1, 'mission': 1, 'aq': 1, 'avo': 1, 'chachi': 1, 'tiz': 1, 'kanagu': 1, 'brat': 1, 'derp': 1, 'lipo': 1, 'netflix': 1, 'clash': 1, 'arr': 1, 'oscar': 1, 'rebtel': 1, 'firefox': 1, 'bcmsfwc': 1, 'stadium': 1, 'larg': 1, 'coca': 1, 'cola': 1, 'teenag': 1, 'mittelschmertz': 1, 'paracetamol': 1, 'cthen': 1, 'conclus': 1, 'instant': 1, 'rugbi': 1, 'affidavit': 1, 'twigg': 1, 'courtroom': 1, 'golden': 1, 'crazyin': 1, 'sleepingwith': 1, 'finest': 1, 'ymca': 1, 'wtc': 1, 'weiyi': 1, 'romcapspam': 1, 'presenc': 1, 'outgo': 1, 'maggi': 1, 'mee': 1, 'pooja': 1, 'sweatter': 1, 'ambiti': 1, 'miiiiiiissssssssss': 1, 'tunji': 1, 'misscal': 1, 'frndz': 1, 'tall': 1, 'aveng': 1, 'toss': 1, 'gudni': 1, 'dancin': 1, 'explicitli': 1, 'nora': 1, 'gayl': 1, 'crucifi': 1, 'but': 1, 'vs': 1, 'cedar': 1, 'durham': 1, 'stopbcm': 1, 'sf': 1, 'printer': 1, 'harish': 1, 'acnt': 1, 'showroom': 1, 'shape': 1, 'doinat': 1, 'callon': 1, 'pdate': 1, 'yhl': 1, 'configur': 1, 'anal': 1, 'pear': 1, 'oooooh': 1, 'resubmit': 1, 'expiri': 1, 'mint': 1, 'studyn': 1, 'everyboy': 1, 'xxxxxxxx': 1, 'answr': 1, 'liquor': 1, 'loko': 1, 'fireplac': 1, 'icon': 1, 'fifth': 1, 'woozl': 1, 'machin': 1, 'my': 1, 'down': 1, 'fletcher': 1, 'cozi': 1, 'buzzzz': 1, 'trend': 1, 'con': 1, 'descript': 1, 'nuclear': 1, 'fusion': 1, 'iter': 1, 'jet': 1, 'nowher': 1, 'ikno': 1, 'doesdiscount': 1, 'shitinnit': 1, 'jabo': 1, 'slower': 1, 'maniac': 1, 'sapna': 1, 'maneg': 1, 'hogidh': 1, 'chinnu': 1, 'swalpa': 1, 'agidhan': 1, 'footbl': 1, 'crckt': 1, 'swell': 1, 'tim': 1, 'bollox': 1, 'tol': 1, 'ingredi': 1, 'poci': 1, 'non': 1, 'qf': 1, 'senor': 1, 'giggl': 1, 'nvq': 1, 'profession': 1, 'tiger': 1, 'wood': 1, 'grinder': 1, 'onluy': 1, 'offcampu': 1, 'riley': 1, 'ew': 1, 'lingo': 1, 'chrgd': 1, 'exit': 1, 'sankranti': 1, 'republ': 1, 'shivratri': 1, 'ugadi': 1, 'festiv': 1, 'dasara': 1, 'rememberi': 1, 'lifei': 1, 'daywith': 1, 'somewheresomeon': 1, 'tosend': 1, 'selfless': 1, 'initi': 1, 'tallent': 1, 'portal': 1, 'lennon': 1, 'fox': 1, 'frndsship': 1, 'dwn': 1, 'slaaaaav': 1, 'summon': 1, 'appendix': 1, 'slob': 1, 'webpag': 1, 'yeesh': 1, 'hunk': 1, 'gotbab': 1, 'gopalettan': 1, 'particip': 1, 'abroad': 1, 'xxsp': 1, 'stopcost': 1, 'goodi': 1, 'mat': 1, 'ay': 1, 'isaiah': 1, 'expert': 1, 'thinl': 1, 'importantli': 1, 'tightli': 1, 'wnevr': 1, 'yen': 1, 'madodu': 1, 'nav': 1, 'pretsorginta': 1, 'nammanna': 1, 'pretsovru': 1, 'alwa': 1, 'lord': 1, 'soundtrack': 1, 'stdtxtrate': 1, 'sg': 1, 'phyhcmk': 1, 'emigr': 1, 'olol': 1, 'stagwood': 1, 'winterston': 1, 'victor': 1, 'jp': 1, 'mofo': 1, 'pathaya': 1, 'enketa': 1, 'maraikara': 1, 'priest': 1, 'intrud': 1, 'walkabout': 1, 'phil': 1, 'nevil': 1, 'abbey': 1, 'punj': 1, 'classic': 1, 'clip': 1, 'mmsto': 1, 'twat': 1, 'dungere': 1, 'punch': 1, 'vat': 1, 'hogolo': 1, 'kodstini': 1, 'madstini': 1, 'hogli': 1, 'mutai': 1, 'eerulli': 1, 'kodthini': 1, 'thasa': 1, 'tex': 1, 'mecaus': 1, 'werebor': 1, 'okden': 1, 'uin': 1, 'likeyour': 1, 'countinlot': 1, 'hdd': 1, 'describ': 1, 'asu': 1, 'reformat': 1, 'plumber': 1, 'appeal': 1, 'thriller': 1, 'eleph': 1, 'um': 1, 'pooki': 1, 'nri': 1, 'deserv': 1, 'diddi': 1, 'toothpast': 1, 'poke': 1, 'coccoon': 1, 'newquay': 1, 'talkin': 1, 'windi': 1, 'tirunelvai': 1, 'dusk': 1, 'puzzl': 1, 'stair': 1, 'phew': 1, 'recycl': 1, 'toledo': 1, 'tai': 1, 'feng': 1, 'swimsuit': 1, 'squeeeeez': 1, 'frndshp': 1, 'luvd': 1, 'volcano': 1, 'erupt': 1, 'hurrican': 1, 'sway': 1, 'aroundn': 1, 'lighter': 1, 'lasagna': 1, 'woould': 1, 'raviyog': 1, 'peripher': 1, 'bhayandar': 1, 'sunoco': 1, 'plate': 1, 'leftov': 1, 'fatti': 1, 'badrith': 1, 'checkin': 1, 'armenia': 1, 'swann': 1, 'justifi': 1, 'hava': 1, 'rct': 1, 'thnq': 1, 'adrian': 1, 'vatian': 1, 'gonnamissu': 1, 'butther': 1, 'abouta': 1, 'merememberin': 1, 'asther': 1, 'ofsi': 1, 'breakin': 1, 'yaxx': 1, 'poortiyagi': 1, 'odalebeku': 1, 'hanumanji': 1, 'hanuman': 1, 'bajarangabali': 1, 'maruti': 1, 'pavanaputra': 1, 'sankatmochan': 1, 'ramaduth': 1, 'mahav': 1, 'janarig': 1, 'ivatt': 1, 'kalisidar': 1, 'olag': 1, 'ondu': 1, 'keluviri': 1, 'maretar': 1, 'ind': 1, 'dodda': 1, 'problum': 1, 'nalli': 1, 'siguviri': 1, 'idu': 1, 'matra': 1, 'neglet': 1, 'ijust': 1, 'opp': 1, 'gei': 1, 'tron': 1, 'dl': 1, 'spif': 1, 'workag': 1, 'supos': 1, 'embassi': 1, 'lightli': 1, 'checkbox': 1, 'batsman': 1, 'yetti': 1, 'yifeng': 1, 'slurp': 1, 'brainless': 1, 'vehicl': 1, 'sariyag': 1, 'madok': 1, 'barolla': 1, 'postpon': 1, 'tiim': 1, 'afternon': 1, 'resiz': 1, 'oppos': 1, 'shortcod': 1, 'somerset': 1, 'overtim': 1, 'nigpun': 1, 'dismissi': 1, 'screwd': 1, 'bull': 1, 'float': 1, 'heehe': 1, 'arithmet': 1, 'percentag': 1, 'chillaxin': 1, 'iknow': 1, 'wellda': 1, 'peril': 1, 'studentfinanci': 1, 'monster': 1, 'obey': 1, 'uhhhhrmm': 1, 'deltomorrow': 1, 'smartcal': 1, 'subscriptn': 1, 'landlineonli': 1, 'orno': 1, 'fink': 1, 'minmobsmor': 1, 'lkpobox': 1, 'youphon': 1, 'athom': 1, 'youwanna': 1, 'jack': 1, 'pretend': 1, 'hypotheticalhuagauahahuagahyuhagga': 1, 'braini': 1, 'occas': 1, 'reflect': 1, 'tradit': 1, 'cantdo': 1, 'anythingtomorrow': 1, 'mypar': 1, 'aretak': 1, 'outfor': 1, 'katexxx': 1, 'level': 1, 'gate': 1, 'lingeri': 1, 'bridal': 1, 'petticoatdream': 1, 'weddingfriend': 1, 'board': 1, 'overh': 1, 'reslov': 1, 'inst': 1, 'western': 1, 'notixiqu': 1, 'laxinorf': 1, 'bambl': 1, 'entrop': 1, 'oblising': 1, 'masteriast': 1, 'amplikat': 1, 'fidalf': 1, 'champlaxig': 1, 'atroci': 1, 'wotz': 1, 'junna': 1, 'knicker': 1, 'nikiyu': 1, 'divert': 1, 'wadebridg': 1, 'vill': 1, 'orc': 1, 'seek': 1, 'wherr': 1, 'resolut': 1, 'frank': 1, 'logoff': 1, 'parkin': 1, 'asa': 1, 'charm': 1, 'arnt': 1, 'xxxxxxxxxxxxxx': 1, 'dorothi': 1, 'kiefer': 1, 'all': 1, 'mone': 1, 'eppolum': 1, 'allalo': 1, 'fundament': 1, 'pixel': 1, 'optic': 1, 'doom': 1, 'noi': 1, 'js': 1, 'burgundi': 1, 'amrita': 1, 'bpo': 1, 'nighter': 1, 'persev': 1, 'spous': 1, 'pmt': 1, 'shldxxxx': 1, 'scenario': 1, 'spun': 1, 'wrld': 1, 'ppmpobox': 1, 'bhamb': 1, 'xe': 1, 'broadband': 1, 'tens': 1, 'sprint': 1, 'gower': 1, 'chik': 1, 'filth': 1, 'saristar': 1, 'yt': 1, 'wire': 1, 'mobcudb': 1, 'sabarish': 1, 'inperson': 1, 'flea': 1, 'banneduk': 1, 'highest': 1, 'maximum': 1, 'taj': 1, 'lesser': 1, 'known': 1, 'hari': 1, 'rtf': 1, 'sphost': 1, 'webadr': 1, 'gete': 1, 'passport': 1, 'multipli': 1, 'twin': 1, 'strt': 1, 'ltdhelpdesk': 1, 'equal': 1, 'unev': 1, 'peski': 1, 'cyclist': 1, 'adi': 1, 'entey': 1, 'nattil': 1, 'kittum': 1, 'hire': 1, 'hitman': 1, 'cp': 1, 'conserv': 1, 'epi': 1, 'bhaskar': 1, 'gong': 1, 'kaypoh': 1, 'basketbal': 1, 'outdoor': 1, 'interfu': 1, 'hustl': 1, 'forth': 1, 'harlem': 1, 'workout': 1, 'zac': 1, 'hui': 1, 'versu': 1, 'underdtand': 1, 'muchxxlov': 1, 'locaxx': 1, 'skateboard': 1, 'thrown': 1, 'bandag': 1, 'html': 1, 'mfl': 1, 'hectic': 1, 'wamma': 1, 'doggin': 1, 'virtual': 1, 'apnt': 1, 'pant': 1, 'lanka': 1, 'mere': 1, 'relationship': 1, 'wherevr': 1, 'gudnyt': 1, 'plum': 1, 'smack': 1, 'alot': 1, 'lancast': 1, 'neway': 1, 'soc': 1, 'bsn': 1, 'lobbi': 1, 'ything': 1, 'lubli': 1, 'specifi': 1, 'domain': 1, 'nusstu': 1, 'bari': 1, 'hudgi': 1, 'yorg': 1, 'pataistha': 1, 'ertini': 1, 'hasbro': 1, 'jump': 1, 'hoop': 1, 'ummifi': 1, 'associ': 1, 'uteru': 1, 'jacuzzi': 1, 'txtstar': 1, 'uve': 1, 'wildest': 1, 'aldrin': 1, 'rtm': 1, 'neces': 1, 'witout': 1, 'wth': 1, 'esp': 1, 'wrd': 1, 'wthout': 1, 'takecar': 1, 'univ': 1, 'raja': 1, 'burrito': 1, 'stitch': 1, 'trouser': 1, 'cheeto': 1, 'sync': 1, 'shangela': 1, 'poo': 1, 'gloucesterroad': 1, 'uup': 1, 'ouch': 1, 'glo': 1, 'wlcome': 1, 'timi': 1, 'fishrman': 1, 'strtd': 1, 'throwin': 1, 'mobstorequiz': 1, 'physic': 1, 'praveesh': 1, 'delici': 1, 'salad': 1, 'whore': 1, 'twink': 1, 'scalli': 1, 'skin': 1, 'jock': 1, 'flood': 1, 'bead': 1, 'wishlist': 1, 'comfort': 1, 'sold': 1, 'reffer': 1, 'geti': 1, 'weirdi': 1, 'greec': 1, 'someday': 1, 'grandfath': 1, 'novemb': 1, 'yuou': 1, 'spot': 1, 'bunch': 1, 'lotto': 1, 'authoris': 1, 'gimmi': 1, 'goss': 1, 'ystrday': 1, 'chile': 1, 'sublet': 1, 'steer': 1, 'rounder': 1, 'lambu': 1, 'ji': 1, 'batchlor': 1, 'zoom': 1, 'cncl': 1, 'stopc': 1, 'ecef': 1, 'ff': 1, 'jul': 1, 'xafter': 1, 'cst': 1, 'pure': 1, 'smiley': 1, 'gail': 1, 'tr': 1, 'yaxxx': 1, 'theoret': 1, 'multimedia': 1, 'agenc': 1, 'nicki': 1, 'gumbi': 1, 'alto': 1, 'tarpon': 1, 'cab': 1, 'hf': 1, 'radiat': 1, 'proper': 1, 'tongu': 1, 'qi': 1, 'suddenli': 1, 'flurri': 1, 'pushbutton': 1, 'dontcha': 1, 'babygoodby': 1, 'golddigg': 1, 'webeburnin': 1, 'nigh': 1, 'nooooooo': 1, 'cabl': 1, 'so': 1, 'playin': 1, 'guoyang': 1, 'rahul': 1, 'dengra': 1, 'antelop': 1, 'toplay': 1, 'fieldof': 1, 'selfindepend': 1, 'gnarl': 1, 'barkley': 1, 'borderlin': 1, 'nightnight': 1, 'groov': 1, 'mise': 1, 'unsecur': 1, 'lanr': 1, 'fakey': 1, 'eckankar': 1, 'dodgey': 1, 'asssssholeee': 1, 'ceri': 1, 'rebel': 1, 'dreamz': 1, 'nationwid': 1, 'newport': 1, 'juliana': 1, 'nacho': 1, 'dizzamn': 1, 'suitem': 1, 'nimbomson': 1, 'contin': 1, 'fiend': 1, 'imped': 1, 'thousad': 1, 'nose': 1, 'essay': 1, 'tram': 1, 'vic': 1, 'coher': 1, 'tripl': 1, 'echo': 1, 'gran': 1, 'onlyfound': 1, 'afew': 1, 'cusoon': 1, 'honi': 1, 'southern': 1, 'rayan': 1, 'macleran': 1, 'olav': 1, 'mandara': 1, 'trishul': 1, 'woo': 1, 'hoo': 1, 'panti': 1, 'thout': 1, 'flatter': 1, 'pint': 1, 'carlin': 1, 'ciao': 1, 'wknd': 1, 'yalrigu': 1, 'heltini': 1, 'iyo': 1, 'noic': 1, 'esaplanad': 1, 'enna': 1, 'kalaachutaarama': 1, 'coco': 1, 'sporad': 1, 'persolvo': 1, 'kath': 1, 'manchest': 1, 'burden': 1, 'noworriesloan': 1, 'harder': 1, 'nbme': 1, 'villa': 1, 'gam': 1, 'religi': 1, 'muhommad': 1, 'penni': 1, 'fite': 1, 'mj': 1, 'unconvinc': 1, 'willpow': 1, 'absenc': 1, 'answerin': 1, 'evey': 1, 'prin': 1, 'gsoh': 1, 'spam': 1, 'gigolo': 1, 'oncal': 1, 'mjzgroup': 1, 'ashwini': 1, 'ukp': 1, 'thet': 1, 'skinni': 1, 'hlday': 1, 'camp': 1, 'amrca': 1, 'serena': 1, 'prescrib': 1, 'meatbal': 1, 'panalam': 1, 'spjanuari': 1, 'fortun': 1, 'allday': 1, 'perf': 1, 'familiar': 1, 'infact': 1, 'simpson': 1, 'band': 1, 'shite': 1, 'kip': 1, 'hont': 1, 'amanda': 1, 'subject': 1, 'perspect': 1, 'debat': 1, 'wtlp': 1, 'jb': 1, 'florida': 1, 'hidden': 1, 'swhrt': 1, 'ez': 1, 'jetton': 1, 'cmon': 1, 'lunsford': 1, 'prizeawait': 1, 'kfc': 1, 'gravi': 1, 'mw': 1, 'tuth': 1, 'evict': 1, 'spiral': 1, 'michael': 1, 'riddanc': 1, 'raglan': 1, 'closebi': 1, 'skye': 1, 'bookedth': 1, 'hut': 1, 'drastic': 1, 'garment': 1, 'sez': 1, 'arab': 1, 'eshxxxxxxxxxxx': 1, 'bimbo': 1, 'ugo': 1, 'porteg': 1, 'semiobscur': 1, 'gpr': 1, 'loosu': 1, 'careless': 1, 'myspac': 1, 'method': 1, 'jewelri': 1, 'breaker': 1, 'delux': 1, 'featur': 1, 'graphic': 1, 'bbdelux': 1, 'fumbl': 1, 'weekday': 1, 'nail': 1, 'asia': 1, 'stil': 1, 'tobe': 1, 'asthma': 1, 'attack': 1, 'spin': 1, 'haiyoh': 1, 'prsn': 1, 'audiit': 1, 'reloc': 1, 'pock': 1, 'brison': 1, 'cap': 1, 'bullshit': 1, 'motherfuck': 1, 'kit': 1, 'ig': 1, 'oja': 1, 'thesmszon': 1, 'anonym': 1, 'mask': 1, 'woodland': 1, 'avenu': 1, 'parish': 1, 'magazin': 1, 'billi': 1, 'awww': 1, 'useless': 1, 'loo': 1, 'ed': 1, 'swollen': 1, 'gland': 1, 'bcaz': 1, 'stu': 1, 'trubl': 1, 'evon': 1, 'view': 1, 'dual': 1, 'hostil': 1, 'haircut': 1, 'breezi': 1, 'tulsi': 1, 'leaf': 1, 'lemon': 1, 'problm': 1, 'litr': 1, 'watr': 1, 'diseas': 1, 'snd': 1, 'lavend': 1, 'manki': 1, 'scous': 1, 'inmind': 1, 'recreat': 1, 'judgement': 1, 'waheeda': 1, 'bot': 1, 'eventu': 1, 'toler': 1, 'hellogorg': 1, 'nitw': 1, 'texd': 1, 'hopeu': 1, 'ward': 1, 'jaz': 1, 'exorc': 1, 'emili': 1, 'emot': 1, 'prayr': 1, 'othrwis': 1, 'ujhhhhhhh': 1, 'sandiago': 1, 'parantella': 1, 'sweater': 1, 'mango': 1, 'landmark': 1, 'bob': 1, 'barri': 1, 'consent': 1, 'tonex': 1, 'clubz': 1, 'mathew': 1, 'tait': 1, 'anderson': 1, 'haunt': 1, 'crowd': 1, 'snowboard': 1, 'christmassi': 1, 'recpt': 1, 'baaaaaaaab': 1, 'shola': 1, 'sagamu': 1, 'lautech': 1, 'vital': 1, 'zealand': 1, 'qet': 1, 'browser': 1, 'convers': 1, 'overemphasis': 1, 'headset': 1, 'adp': 1, 'intern': 1, 'extract': 1, 'skint': 1, 'bevi': 1, 'waz': 1, 'othr': 1, 'watchng': 1, 'comfey': 1, 'wudn': 1, 'frequent': 1, 'cupboard': 1, 'rout': 1, 'mro': 1, 'floppi': 1, 'snappi': 1, 'grasp': 1, 'flavour': 1, 'lareadi': 1, 'dom': 1, 'ffffuuuuuuu': 1, 'julianaland': 1, 'oblivi': 1, 'mapquest': 1, 'dogwood': 1, 'archiv': 1, 'mg': 1, 'behalf': 1, 'stun': 1, 'visa': 1, 'gucci': 1, 'sozi': 1, 'culdnt': 1, 'talkbut': 1, 'wannatel': 1, 'wenwecan': 1, 'smsing': 1, 'effici': 1, 'erutupalam': 1, 'thandiyachu': 1, 'invent': 1, 'lyric': 1, 'nevr': 1, 'unrecogn': 1, 'somon': 1, 'definitli': 1, 'undrstnd': 1, 'ger': 1, 'toke': 1, 'syd': 1, 'khelat': 1, 'kintu': 1, 'opponent': 1, 'dhort': 1, 'lage': 1, 'looovvv': 1, 'warwick': 1, 'tmw': 1, 'havn': 1, 'parad': 1, 'proze': 1, 'norcorp': 1, 'cfca': 1, 'grumbl': 1, 'linear': 1, 'algebra': 1, 'decor': 1, 'roomat': 1, 'graduat': 1, 'adjust': 1, 'cooper': 1, 'nottingham': 1, 'mph': 1, 'mornin': 1, 'thanku': 1, 'string': 1, 'ea': 1, 'otbox': 1, 'besid': 1, 'brisk': 1, 'sexiest': 1, 'dirtiest': 1, 'tellmiss': 1, 'contribut': 1, 'greatli': 1, 'urgh': 1, 'coach': 1, 'duvet': 1, 'utxt': 1, 'beverag': 1, 'pist': 1, 'surrend': 1, 'symptom': 1, 'rdi': 1, 'backward': 1, 'abstract': 1, 'africa': 1, 'avin': 1, 'chit': 1, 'logon': 1, 'zf': 1, 'quiteamuz': 1, 'scool': 1, 'ppmmobilesvari': 1, 'fixd': 1, 'njan': 1, 'vilikkam': 1, 'sudn': 1, 'chapter': 1, 'chop': 1, 'noooooooo': 1, 'firsg': 1, 'split': 1, 'wasnt': 1, 'heat': 1, 'sumf': 1, 'hiphop': 1, 'oxygen': 1, 'resort': 1, 'roller': 1, 'cannam': 1, 'australia': 1, 'mquiz': 1, 'showr': 1, 'upon': 1, 'ceil': 1, 'presnt': 1, 'bcz': 1, 'jeevithathil': 1, 'irulina': 1, 'neekunna': 1, 'prakasamanu': 1, 'sneham': 1, 'prakasam': 1, 'ennal': 1, 'mn': 1, 'firmwar': 1, 'vijaykanth': 1, 'anythi': 1, 'clubmobi': 1, 'keypad': 1, 'btwn': 1, 'decad': 1, 'gover': 1, 'spice': 1, 'prasanth': 1, 'ettan': 1, 'appi': 1, 'fizz': 1, 'contain': 1, 'genu': 1, 'robinson': 1, 'out': 1, 'soz': 1, 'imat': 1, 'sometext': 1, 'chloe': 1, 'wewa': 1, 'iriv': 1, 'bw': 1, 'surli': 1, 'mmmmmmm': 1, 'snuggl': 1, 'whisper': 1, 'healthi': 1, 'scrape': 1, 'barrel': 1, 'misfit': 1, 'clearer': 1, 'peach': 1, 'rayman': 1, 'golf': 1, 'termsappli': 1, 'shindig': 1, 'phonebook': 1, 'ash': 1, 'shijutta': 1, 'offens': 1, 'dvg': 1, 'vinobanagar': 1, 'woah': 1, 'orh': 1, 'axel': 1, 'akon': 1, 'canteen': 1, 'stressful': 1, 'presid': 1, 'assist': 1, 'when': 1, 'watev': 1, 'built': 1, 'lonlin': 1, 'lotz': 1, 'gailxx': 1, 'complac': 1, 'mina': 1, 'miwa': 1, 'opposit': 1, 'heavili': 1, 'patrick': 1, 'swayz': 1, 'santacal': 1, 'quarter': 1, 'limp': 1, 'aa': 1, 'oga': 1, 'poorli': 1, 'brb': 1, 'smaller': 1, 'capac': 1, 'shsex': 1, 'netun': 1, 'fgkslpopw': 1, 'fgkslpo': 1, 'defer': 1, 'admiss': 1, 'checkmat': 1, 'chess': 1, 'persian': 1, 'phrase': 1, 'shah': 1, 'maat': 1, 'rat': 1, 'photoshop': 1, 'increas': 1, 'north': 1, 'carolina': 1, 'texa': 1, 'gre': 1, 'bomb': 1, 'weapon': 1, 'lovli': 1, 'customercar': 1, 'cla': 1, 'lit': 1, 'loooooool': 1, 'couch': 1, 'swashbuckl': 1, 'terror': 1, 'cruel': 1, 'decent': 1, 'joker': 1, 'dip': 1, 'gek': 1, 'lyricalladi': 1, 'hmmross': 1, 'happiest': 1, 'antibiot': 1, 'abdomen': 1, 'gyna': 1, 'chastiti': 1, 'devic': 1, 'beat': 1, 'gut': 1, 'tallahasse': 1, 'ou': 1, 'taka': 1, 'nr': 1, 'zs': 1, 'ritten': 1, 'fold': 1, 'colin': 1, 'farrel': 1, 'swat': 1, 'mre': 1, 'solihul': 1, 'nh': 1, 'termin': 1, 'yard': 1, 'bergkamp': 1, 'margin': 1, 'snot': 1, 'nonetheless': 1, 'hooch': 1, 'toaday': 1, 'splat': 1, 'graze': 1, 'hearin': 1, 'yah': 1, 'tortur': 1, 'sexychat': 1, 'court': 1, 'chapel': 1, 'frontiervil': 1, 'deer': 1, 'varma': 1, 'fart': 1, 'ortxt': 1, 'advisor': 1, 'diall': 1, 'ahhhh': 1, 'experiencehttp': 1, 'vouch': 1, 'etlp': 1, 'kaila': 1, 'unicef': 1, 'asian': 1, 'fund': 1, 'collaps': 1, 'jade': 1, 'paul': 1, 'barm': 1, 'thinkthi': 1, 'coulda': 1, 'phoni': 1, 'okday': 1, 'hmph': 1, 'baller': 1, 'punto': 1, 'ayo': 1, 'freeentri': 1, 'xt': 1, 'toyota': 1, 'camri': 1, 'olayiwola': 1, 'mileag': 1, 'clover': 1, 'achan': 1, 'rencontr': 1, 'te': 1, 'puppi': 1, 'nois': 1, 'meg': 1, 'deepest': 1, 'darkest': 1, 'adsens': 1, 'dudett': 1, 'perumbavoor': 1, 'stage': 1, 'clarifi': 1, 'prepon': 1, 'younger': 1, 'liver': 1, 'loneli': 1, 'skyve': 1, 'onword': 1, 'mtnl': 1, 'mumbai': 1, 'accommodationvouch': 1, 'mustprovid': 1, 'rajitha': 1, 'ranju': 1, 'perweeksub': 1, 'disagre': 1, 'afterward': 1, 'uawak': 1, 'feellikw': 1, 'justfound': 1, 'alett': 1, 'thatmum': 1, 'gotmarri': 1, 'thnov': 1, 'ourback': 1, 'fuckinnic': 1, 'rearrang': 1, 'dormitori': 1, 'astronom': 1, 'starer': 1, 'recount': 1, 'hitler': 1, 'eleven': 1, 'worm': 1, 'dysentri': 1, 'virgil': 1, 'gokila': 1, 'shanil': 1, 'exchang': 1, 'uncut': 1, 'dino': 1, 'kote': 1, 'panther': 1, 'sugabab': 1, 'zebra': 1, 'badass': 1, 'hoodi': 1, 'resent': 1, 'queri': 1, 'customersqueri': 1, 'netvis': 1, 'hassl': 1, 'haughaighgtujhyguj': 1, 'fassyol': 1, 'blacko': 1, 'londn': 1, 'vco': 1, 'aslamalaikkum': 1, 'tohar': 1, 'beeen': 1, 'muht': 1, 'albi': 1, 'mufti': 1, 'mahfuuz': 1, 'enufcredeit': 1, 'tocal': 1, 'ileav': 1, 'okor': 1, 'ibor': 1, 'zero': 1, 'goigng': 1, 'perfum': 1, 'sday': 1, 'grocer': 1, 'franki': 1, 'benni': 1, 'diaper': 1, 'unlik': 1, 'patient': 1, 'turkey': 1, 'wenev': 1, 'stabil': 1, 'tranquil': 1, 'vibrant': 1, 'bawl': 1, 'failur': 1, 'velusami': 1, 'facil': 1, 'karnan': 1, 'bluray': 1, 'salt': 1, 'wound': 1, 'geoenvironment': 1, 'implic': 1, 'fuuuuck': 1, 'salmon': 1, 'wrkin': 1, 'ree': 1, 'compens': 1, 'awkward': 1, 'splash': 1, 'musta': 1, 'overdid': 1, 'telediscount': 1, 'chuck': 1, 'port': 1, 'juswok': 1, 'boatin': 1, 'spinout': 1, 'uworld': 1, 'qbank': 1, 'assess': 1, 'someonon': 1, 'tke': 1, 'temal': 1, 'finishd': 1, 'dull': 1, 'treadmil': 1, 'craigslist': 1, 'absolut': 1, 'swan': 1, 'lamp': 1, 'foward': 1, 'misundrstud': 1, 'gene': 1, 'reappli': 1, 'treatin': 1, 'treacl': 1, 'mumha': 1, 'beendrop': 1, 'theplac': 1, 'adress': 1, 'oyster': 1, 'sashimi': 1, 'rumbl': 1, 'marandratha': 1, 'correctli': 1, 'alaikkum': 1, 'heaven': 1, 'pisc': 1, 'aquariu': 1, 'steyn': 1, 'wicket': 1, 'sterm': 1, 'resolv': 1, 'jam': 1, 'hannaford': 1, 'wheat': 1, 'chex': 1, 'grownup': 1, 'jerk': 1, 'stink': 1, 'subsequ': 1, 'upcharg': 1, 'guai': 1, 'astrolog': 1, 'slack': 1, 'mentor': 1, 'erot': 1, 'ecstaci': 1, 'dept': 1, 'coincid': 1, 'sane': 1, 'paus': 1, 'psp': 1, 'spacebuck': 1, 'squeez': 1, 'dread': 1, 'thou': 1, 'forgt': 1, 'ajith': 1, 'ooooooh': 1, 'yovil': 1, 'asda': 1, 'bff': 1, 'seper': 1, 'ud': 1, 'brolli': 1, 'franxx': 1, 'prometazin': 1, 'syrup': 1, 'feed': 1, 'singapor': 1, 'victoria': 1, 'pocay': 1, 'wocay': 1, 'morrowxxxx': 1, 'broth': 1, 'ramen': 1, 'fowler': 1, 'flew': 1, 'attent': 1, 'tix': 1, 'fne': 1, 'youdo': 1, 'worc': 1, 'foreg': 1, 'shrub': 1, 'legitimat': 1, 'efreefon': 1, 'pendent': 1, 'toilet': 1, 'stolen': 1, 'cop': 1, 'hu': 1, 'navig': 1, 'guidanc': 1, 'chick': 1, 'boob': 1, 'sparkl': 1, 'shortbreak': 1, 'org': 1, 'gyno': 1, 'gamb': 1, 'treasur': 1, 'neg': 1, 'hmmmm': 1, 'command': 1, 'holbi': 1, 'li': 1, 'yeovil': 1, 'motor': 1, 'rhode': 1, 'bong': 1, 'ofcours': 1, 'planettalkinst': 1, 'marvel': 1, 'tamilnadu': 1, 'identif': 1, 'boundari': 1, 'endless': 1, 'young': 1, 'referin': 1, 'saibaba': 1, 'colani': 1, 'chic': 1, 'declar': 1, 'disappoint': 1, 'tantrum': 1, 'compliment': 1, 'chief': 1, 'gsex': 1, 'chatlin': 1, 'inclu': 1, 'bailiff': 1, 'mous': 1, 'desk': 1, 'childporn': 1, 'jumper': 1, 'hat': 1, 'belt': 1, 'cribb': 1, 'spiritu': 1, 'sudden': 1, 'influx': 1, 'kane': 1, 'shud': 1, 'pshew': 1, 'accent': 1, 'dental': 1, 'nmde': 1, 'dump': 1, 'heap': 1, 'salesman': 1, 'piti': 1})\n"
     ]
    }
   ],
   "source": [
    "from collections import Counter\n",
    "count_word=Counter(all_word)\n",
    "print(count_word)"
   ]
  },
  {
   "cell_type": "code",
   "execution_count": 23,
   "id": "ceee7fbe",
   "metadata": {},
   "outputs": [
    {
     "name": "stdout",
     "output_type": "stream",
     "text": [
      "The most 2000 common words are : ['go', 'jurong', 'point', 'crazi', 'avail', 'bugi', 'n', 'great', 'world', 'la', 'e', 'buffet', 'cine', 'got', 'amor']\n"
     ]
    }
   ],
   "source": [
    "# use the 2000 most common words as features\n",
    "word_features = list(all_word2.keys())[:2000]\n",
    "\n",
    "print(\"The most 2000 common words are : \" + str(word_features[:15]))"
   ]
  },
  {
   "cell_type": "code",
   "execution_count": 24,
   "id": "f323c613",
   "metadata": {},
   "outputs": [],
   "source": [
    "# The find_features function will determine which of the 1500 word features are contained in the review\n",
    "def find_features(message):\n",
    "    words = word_tokenize(message)\n",
    "    features = {}\n",
    "    for word in word_features:\n",
    "        features[word] = (word in words)\n",
    "\n",
    "    return features"
   ]
  },
  {
   "cell_type": "code",
   "execution_count": 25,
   "id": "eea99cdb",
   "metadata": {},
   "outputs": [],
   "source": [
    "# Now lets do it for all the messages\n",
    "messages = zip(corpus, df['label'])\n",
    "np.random.seed = 1\n",
    "#np.random.shuffle(messages)\n",
    "\n",
    "# Feed the message in to the find_features\n",
    "feature_set = [(find_features(text), label) for (text, label) in messages]"
   ]
  },
  {
   "cell_type": "code",
   "execution_count": 26,
   "id": "b1fcb0e1",
   "metadata": {},
   "outputs": [
    {
     "name": "stdout",
     "output_type": "stream",
     "text": [
      "Training data set contain  4179 Observation\n",
      "Testing data set contain   1393 Observation\n"
     ]
    }
   ],
   "source": [
    "# we can split the feature_set into training and testing data as using sklearn\n",
    "from sklearn import model_selection\n",
    "training, testing = model_selection.train_test_split(feature_set, test_size = 0.25, random_state=2)\n",
    "print(\"Training data set contain \" + \" \" + str(len(training))+ \" \"+ \"Observation\")\n",
    "print(\"Testing data set contain  \" + \" \" + str(len(testing))+ \" \"+ \"Observation\")"
   ]
  },
  {
   "cell_type": "code",
   "execution_count": 27,
   "id": "f3215151",
   "metadata": {},
   "outputs": [
    {
     "name": "stdout",
     "output_type": "stream",
     "text": [
      "SVC Accuracy: 98.06173725771716\n"
     ]
    }
   ],
   "source": [
    "from nltk.classify.scikitlearn import SklearnClassifier\n",
    "from sklearn.svm import SVC\n",
    "\n",
    "model = SklearnClassifier(SVC(kernel = 'linear'))\n",
    "\n",
    "# train the model on the training data\n",
    "model.train(training)\n",
    "\n",
    "# and test on the testing dataset!\n",
    "accuracy = nltk.classify.accuracy(model, testing)*100\n",
    "print(\"SVC Accuracy: {}\".format(accuracy))"
   ]
  },
  {
   "cell_type": "code",
   "execution_count": 28,
   "id": "b1f0b137",
   "metadata": {},
   "outputs": [],
   "source": [
    "from sklearn.neighbors import KNeighborsClassifier\n",
    "from sklearn.tree import DecisionTreeClassifier\n",
    "from sklearn.ensemble import RandomForestClassifier\n",
    "from sklearn.linear_model import LogisticRegression, SGDClassifier\n",
    "from sklearn.naive_bayes import MultinomialNB\n",
    "from sklearn.svm import SVC\n",
    "from sklearn.metrics import classification_report, accuracy_score, confusion_matrix\n",
    "from sklearn.neighbors import KNeighborsClassifier\n",
    "from sklearn.tree import DecisionTreeClassifier\n",
    "from sklearn.ensemble import RandomForestClassifier\n",
    "from sklearn.linear_model import LogisticRegression, SGDClassifier\n",
    "from sklearn.naive_bayes import MultinomialNB\n",
    "from sklearn.svm import SVC\n",
    "from sklearn.metrics import classification_report, accuracy_score, confusion_matrix"
   ]
  },
  {
   "cell_type": "code",
   "execution_count": 29,
   "id": "6caa8621",
   "metadata": {},
   "outputs": [
    {
     "name": "stdout",
     "output_type": "stream",
     "text": [
      "K Nearest Neighbors Accuracy: 92.03158650394832\n",
      "Decision Tree Accuracy: 97.20028715003589\n",
      "Random Forest Accuracy: 97.27207465900933\n",
      "Logistic Regression Accuracy: 97.91816223977028\n",
      "SGD Classifier Accuracy: 97.84637473079684\n",
      "Naive Bayes Accuracy: 97.48743718592965\n",
      "SVM Linear Accuracy: 98.06173725771716\n"
     ]
    }
   ],
   "source": [
    "# Define models to train\n",
    "names = [\"K Nearest Neighbors\", \"Decision Tree\", \"Random Forest\", \"Logistic Regression\", \"SGD Classifier\",\n",
    "         \"Naive Bayes\", \"SVM Linear\"]\n",
    "\n",
    "classifiers = [\n",
    "    KNeighborsClassifier(),\n",
    "    DecisionTreeClassifier(),\n",
    "    RandomForestClassifier(),\n",
    "    LogisticRegression(),\n",
    "    SGDClassifier(max_iter = 100),\n",
    "    MultinomialNB(),\n",
    "    SVC(kernel = 'linear')\n",
    "]\n",
    "\n",
    "models = zip(names, classifiers)\n",
    "\n",
    "for name, model in models:\n",
    "    nltk_model = SklearnClassifier(model)\n",
    "    nltk_model.train(training)\n",
    "    accuracy = nltk.classify.accuracy(nltk_model, testing)*100\n",
    "    print(\"{} Accuracy: {}\".format(name, accuracy))"
   ]
  }
 ],
 "metadata": {
  "kernelspec": {
   "display_name": "Python 3 (ipykernel)",
   "language": "python",
   "name": "python3"
  },
  "language_info": {
   "codemirror_mode": {
    "name": "ipython",
    "version": 3
   },
   "file_extension": ".py",
   "mimetype": "text/x-python",
   "name": "python",
   "nbconvert_exporter": "python",
   "pygments_lexer": "ipython3",
   "version": "3.10.11"
  }
 },
 "nbformat": 4,
 "nbformat_minor": 5
}
